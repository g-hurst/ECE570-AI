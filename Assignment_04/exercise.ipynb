{
 "cells": [
  {
   "cell_type": "markdown",
   "metadata": {
    "id": "4Z5dTMmEipjU"
   },
   "source": [
    "#ECE 57000 Assignment 4 Exercise\n",
    "\n",
    "Name: Garrett Hurst"
   ]
  },
  {
   "cell_type": "markdown",
   "metadata": {
    "id": "pfcdxFawlJTP"
   },
   "source": [
    "Prepare the following package for implementation."
   ]
  },
  {
   "cell_type": "code",
   "execution_count": 1,
   "metadata": {
    "id": "GBZdpuy_pcUb"
   },
   "outputs": [],
   "source": [
    "import numpy as np\n",
    "import torch\n",
    "import torch.nn as nn\n",
    "import torch.nn.functional as F\n",
    "import math\n",
    "import matplotlib.pyplot as plt"
   ]
  },
  {
   "cell_type": "markdown",
   "metadata": {
    "id": "zB0SB2B4y5uj"
   },
   "source": [
    "# Exercise 1: Pisitional Encoding (20 points)"
   ]
  },
  {
   "cell_type": "markdown",
   "metadata": {
    "id": "juee9ETFlbF3"
   },
   "source": [
    "## Task 1. Implement Positional Encoding (15 points)\n",
    "\n",
    "Transformers process input sequences in parallel without an inherent understanding of word position, unlike recurrent neural networks (RNNs) that process sequences step by step. Positional encoding helps transformers gain this positional information by adding a vector to each word embedding that contains information about the word's position in the sequence. Specifically, positional encoding is a deterministic, fixed representation based on sine and cosine functions, and the formula for positional encoding is given as:\n",
    "$$\n",
    "\\mathrm{PE}(p o s, 2 i)=\\sin \\left(\\frac{p o s}{10000^{2 i / d_{\\text {model }}}}\\right),\n",
    "$$\n",
    "$$\n",
    "\\mathrm{PE}(p o s, 2 i+1)=\\cos \\left(\\frac{p o s}{10000^{2 i / d_{\\text {model }}}}\\right),\n",
    "$$\n",
    "where $pos$ is the position, $i$ is the dimension and $d_{\\text{model}}$ is the dimension of the model's embeddings.\n",
    "\n",
    "In practice, the positional encodings is added to the word embeddings, which is done by first creating a tensor of shape (1, sqeuence_length, d_model) and then adding it to the embeddings. Therefore, each dimension of the positional encoding corresponds to a sinusoid.\n",
    "\n",
    "If implemented correctly, the output should be like:\n",
    "\n",
    "Word Embeddings with Positional Encoding:\n",
    "\n",
    " tensor([[ 1.4000,  1.0479,  0.2396, -0.4558, -0.5485,  0.0267,  0.8648,  1.3756,\n",
    "          1.1994,  0.4603],\n",
    "        [ 1.4000,  1.0479,  0.2396, -0.4558, -0.5485,  0.0267,  0.8648,  1.3756,\n",
    "          1.1994,  0.4603],\n",
    "        [ 1.4000,  1.0479,  0.2396, -0.4558, -0.5485,  0.0267,  0.8648,  1.3756,\n",
    "          1.1994,  0.4603]], dtype=torch.float64)"
   ]
  },
  {
   "cell_type": "code",
   "execution_count": 2,
   "metadata": {
    "id": "1JEqA3WTjdvl"
   },
   "outputs": [
    {
     "name": "stdout",
     "output_type": "stream",
     "text": [
      "Word Embeddings with Positional Encoding:\n",
      " tensor([[ 1.4000,  1.0479,  0.2396, -0.4558, -0.5485,  0.0267,  0.8648,  1.3756,\n",
      "          1.1994,  0.4603],\n",
      "        [ 1.4000,  1.0479,  0.2396, -0.4558, -0.5485,  0.0267,  0.8648,  1.3756,\n",
      "          1.1994,  0.4603],\n",
      "        [ 1.4000,  1.0479,  0.2396, -0.4558, -0.5485,  0.0267,  0.8648,  1.3756,\n",
      "          1.1994,  0.4603]])\n"
     ]
    }
   ],
   "source": [
    "class PositionalEncoding:\n",
    "    def __init__(self, d_model, max_len):\n",
    "        self.d_model = d_model\n",
    "        self.max_len = max_len\n",
    "        self.positional_encoding = self._get_positional_encoding()\n",
    "\n",
    "    def _get_positional_encoding(self):\n",
    "        \"\"\"\n",
    "        Generate a matrix where each row corresponds to the positional encoding for a position.\n",
    "        \"\"\"\n",
    "        # <YOUR CODE HERE>\n",
    "        P = torch.zeros((self.max_len, self.d_model))\n",
    "        position = torch.arange(0, self.max_len, dtype=torch.float).unsqueeze(1)\n",
    "        div_term = torch.exp(torch.arange(0, self.d_model, 2) * (-np.log(10000.0) / self.d_model))\n",
    "        P[:, 0::2] = torch.sin(position * div_term)\n",
    "        P[:, 1::2] = torch.cos(position * div_term)\n",
    "        return P\n",
    "        # <END YOUR CODE>\n",
    "\n",
    "    def get_encoding(self):\n",
    "        \"\"\"\n",
    "        Returns the positional encoding matrix.\n",
    "        \"\"\"\n",
    "        return self.positional_encoding\n",
    "\n",
    "def add_positional_encoding(word_embeddings, positional_encodings):\n",
    "    \"\"\"\n",
    "    Add positional encoding to word embeddings.\n",
    "\n",
    "    Parameters:\n",
    "    - word_embeddings: (batch_size, seq_len, d_model) input embeddings\n",
    "    - positional_encodings: (seq_len, d_model) precomputed positional encodings\n",
    "\n",
    "    Returns:\n",
    "    - embeddings with positional encodings added.\n",
    "    \"\"\"\n",
    "    # <YOUR CODE HERE>\n",
    "    return word_embeddings + positional_encodings[:word_embeddings.size(1), :]\n",
    "    # <END YOUR CODE>\n",
    "\n",
    "# Test positional encoding on a sample embedding\n",
    "\n",
    "batch_size = 3\n",
    "seq_len = 10\n",
    "d_model = 128\n",
    "word_embeddings = torch.arange(1,129).repeat(batch_size, seq_len, 1).float()\n",
    "word_embeddings *= 0.1\n",
    "\n",
    "# Create Positional Encoding instance\n",
    "pos_enc = PositionalEncoding(d_model, seq_len)\n",
    "\n",
    "# Get positional encoding\n",
    "positional_encodings = pos_enc.get_encoding()\n",
    "\n",
    "# Add positional encodings to word embeddings\n",
    "encoded_embeddings = add_positional_encoding(word_embeddings, positional_encodings)\n",
    "\n",
    "print(\"Word Embeddings with Positional Encoding:\\n\", encoded_embeddings[:,:,3])"
   ]
  },
  {
   "cell_type": "markdown",
   "metadata": {
    "id": "-MNoM7wNuwew"
   },
   "source": [
    "## Task 2: Visualize Positional Encoding (5 points)\n",
    "\n",
    "Generate and visualize the positional encodings using the positional_encoding function. You will use a heatmap to visualize how different positions and dimensions are represented by the encoding.\n",
    "\n"
   ]
  },
  {
   "cell_type": "code",
   "execution_count": 3,
   "metadata": {
    "id": "WCgngo3Agz0p"
   },
   "outputs": [
    {
     "data": {
      "image/png": "[encoded data removed]",
      "text/plain": [
       "<Figure size 1000x600 with 2 Axes>"
      ]
     },
     "metadata": {},
     "output_type": "display_data"
    }
   ],
   "source": [
    "def visualize_positional_encoding(PE):\n",
    "    plt.figure(figsize=(10, 6))\n",
    "    plt.imshow(PE, aspect='auto', cmap='viridis')\n",
    "    plt.colorbar(label=\"Encoding values\")\n",
    "    plt.xlabel(\"Embedding Dimension\")\n",
    "    plt.ylabel(\"Position in Sequence\")\n",
    "    plt.show()\n",
    "\n",
    "# Visualize for a sequence of length 64 and embedding size 32\n",
    "# <YOUR CODE HERE>\n",
    "visualize_positional_encoding(positional_encodings[:64, :32])\n",
    "# <END YOUR CODE>"
   ]
  },
  {
   "cell_type": "markdown",
   "metadata": {
    "id": "WbJLiwLNnxwS"
   },
   "source": [
    "# Exercise 2: Attention Score Function (30 points)"
   ]
  },
  {
   "cell_type": "markdown",
   "metadata": {
    "id": "DoXzr6Kgvzls"
   },
   "source": [
    "## Task 1. Implement Scaled Dot-Product Attention (20 points)\n",
    "\n",
    "In this task, you will implement a function that computes scaled dot-product attention and use it to create a simple attention-based layer. The scaled dot-product attention computes the attention score by taking the dot product of queries $Q$ and keys $K$, scaling by the square root of the key dimension $d_k$, and applying a softmax to compute attention weights. These weights are then used to compute the weighted sum of the values $V$:\n",
    "$$\n",
    "\\operatorname{A}(Q, K, V)=\\operatorname{softmax}\\left(\\frac{Q K^T}{\\sqrt{d_k}}\\right) V,\n",
    "$$\n",
    "where $Q, K \\in \\mathbb{R}^{L \\times d_k}$ and $V \\in \\mathbb{R}^{L \\times d_v}$. Notice that the softmax function is performed column-wise, and the output  of attention should be a matrix $A \\in \\mathbb{R}^{L \\times d_v}$.\n",
    "\n",
    "Furthermore, you will implement a batched version which takes into account several sequences at the same time, such that $Q, K \\in \\mathbb{R}^{N \\times L \\times d_k}$ and $V \\in \\mathbb{R}^{N \\times L \\times d_v}$ with $N$ the batch size. To do this, we recommend that you use `torch.bmm` for batched version of matrix multiplication for clarity.\n",
    "\n",
    "If implemented correctly, the output should be like:\n",
    "\n",
    "Attention output Shape: torch.Size([20, 5, 64])\n",
    "\n",
    "Attention Weights Shape: torch.Size([20, 5, 5])\n",
    "\n",
    "Is the implementation close to PyTorch implementation? True\n"
   ]
  },
  {
   "cell_type": "code",
   "execution_count": 4,
   "metadata": {
    "id": "4qkQPFNFrkQn"
   },
   "outputs": [
    {
     "name": "stdout",
     "output_type": "stream",
     "text": [
      "Attention Output Shape: torch.Size([20, 5, 64])\n",
      "Attention Weights Shape: torch.Size([20, 5, 5])\n",
      "Is the implementation close to PyTorch implementation? True\n"
     ]
    }
   ],
   "source": [
    "def att_score(Q, K, V):\n",
    "    \"\"\"\n",
    "    Computes scaled dot-product attention.\n",
    "\n",
    "    Parameters:\n",
    "    Q (torch.Tensor): Query matrix of shape (batch_size, num_heads, seq_len, d_k)\n",
    "    K (torch.Tensor): Key matrix of shape (batch_size, num_heads, seq_len, d_k)\n",
    "    V (torch.Tensor): Value matrix of shape (batch_size, num_heads, seq_len, d_v)\n",
    "    mask (torch.Tensor): Optional attention mask of shape (batch_size, 1, 1, seq_len)\n",
    "\n",
    "    Returns:\n",
    "    torch.Tensor: The attention output of shape (batch_size, num_heads, seq_len, d_v)\n",
    "    \"\"\"\n",
    "    d_k = Q.size(-1)\n",
    "    # <YOUR CODE HERE>\n",
    "    weights = torch.softmax((Q @ K.transpose(-2,-1)) / np.sqrt(Q.size(-1)), dim=-1)\n",
    "    return weights @ V, weights\n",
    "    # <END YOUR CODE>\n",
    "\n",
    "# Test the attention function with some random values\n",
    "\n",
    "batch_size = 20\n",
    "seq_len = 5\n",
    "d_k = 512\n",
    "d_v = 64\n",
    "\n",
    "Q = torch.rand(batch_size, seq_len, d_k)\n",
    "K = torch.rand(batch_size, seq_len, d_k)\n",
    "V = torch.rand(batch_size, seq_len, d_v)\n",
    "\n",
    "attention_output, attention_weights = att_score(Q, K, V)\n",
    "attention_output_ref = F.scaled_dot_product_attention(Q, K, V)\n",
    "\n",
    "print(f\"Attention Output Shape:\", attention_output.shape)\n",
    "print(f\"Attention Weights Shape:\", attention_weights.shape)\n",
    "\n",
    "print(f\"Is the implementation close to PyTorch implementation? \" f'{torch.allclose(attention_output,attention_output_ref, atol = 1e-3)}')"
   ]
  },
  {
   "cell_type": "markdown",
   "metadata": {
    "id": "ScdFiFz5zsZJ"
   },
   "source": [
    "## Task 2. Masking Mechanism (10 points)\n",
    "\n",
    "In certain scenarios, we need to prevent the model from \"seeing\" future tokens, which ensures that the predictions are only based on the previous tokens in the sequence. For instance, When predicting the next word in a sequence, we don't want the model to attend to future words, as it would give the model access to information it shouldn't have.\n",
    "\n",
    "In this task, you will implement and test a lower-triangular mask, which masks out upper-triangular entries of the score matrix. Notice that the lower-triangular mask is applied before the softmax function, i.e., on $\\left(\\frac{Q K^T}{\\sqrt{d_k}}\\right)$. Accordingly, you will need to modify the `attention_score` function in task 1 to take into account such change.\n",
    "\n",
    "Hint: you may use the `masked_fill` function to mask out lower-triangular entries. Try to use a boolean mask in the implementation.\n",
    "\n",
    "If implemented correctly, the output should be like:\n",
    "\n",
    "Is the implementation close to PyTorch implementation?: True\n"
   ]
  },
  {
   "cell_type": "code",
   "execution_count": 5,
   "metadata": {
    "id": "CzuJt6fg05qq"
   },
   "outputs": [
    {
     "name": "stdout",
     "output_type": "stream",
     "text": [
      "Is the implementation close to PyTorch implementation? True\n"
     ]
    }
   ],
   "source": [
    "def create_mask(seq_len):\n",
    "    # <YOUR CODE HERE>\n",
    "    return torch.tril(torch.ones((seq_len, seq_len), dtype=torch.bool))\n",
    "    # <END YOUR CODE>\n",
    "\n",
    "def attention_score(Q, K, V, mask=None):\n",
    "    \"\"\"\n",
    "    Computes scaled dot-product attention.\n",
    "\n",
    "    Parameters:\n",
    "    Q (torch.Tensor): Query matrix of shape (batch_size, num_heads, seq_len, d_k)\n",
    "    K (torch.Tensor): Key matrix of shape (batch_size, num_heads, seq_len, d_k)\n",
    "    V (torch.Tensor): Value matrix of shape (batch_size, num_heads, seq_len, d_v)\n",
    "    mask (torch.Tensor): Optional attention mask of shape (batch_size, 1, 1, seq_len)\n",
    "\n",
    "    Returns:\n",
    "    torch.Tensor: The attention output of shape (batch_size, num_heads, seq_len, d_v)\n",
    "    \"\"\"\n",
    "    d_k = Q.size(-1)\n",
    "    # <YOUR CODE HERE>\n",
    "    weights = (Q @ K.transpose(-2,-1)) / np.sqrt(Q.size(-1))\n",
    "    if mask is not None:\n",
    "        if mask.dtype == torch.bool:\n",
    "            weights.masked_fill_(mask.logical_not(), float('-inf'))\n",
    "        else:\n",
    "            weights += mask\n",
    "    weights = torch.softmax(weights, dim=-1)\n",
    "    return weights @ V, weights\n",
    "    # <END YOUR CODE>\n",
    "\n",
    "# Test the masked attention function\n",
    "\n",
    "mask = create_mask(seq_len=5)\n",
    "attention_output, attention_weights = attention_score(Q, K, V, mask=mask)\n",
    "attention_output_ref = F.scaled_dot_product_attention(Q, K, V, attn_mask=mask)\n",
    "\n",
    "print(f\"Is the implementation close to PyTorch implementation? \" f'{torch.allclose(attention_output,attention_output_ref, atol = 1e-3)}')"
   ]
  },
  {
   "cell_type": "markdown",
   "metadata": {
    "id": "-59t7pOen3gi"
   },
   "source": [
    "# Exercise 3: Self-Attention Module (20 points)\n",
    "\n"
   ]
  },
  {
   "cell_type": "markdown",
   "metadata": {
    "id": "Spld39wV7a7C"
   },
   "source": [
    "Implement a self-attention module that takes $X$ and computes $Q$, $K$ and $V$ using three linear layers. If implemented correctly, the output should be like:\n",
    "\n",
    "Output shape: torch.Size([20, 5, 64])\n",
    "\n",
    "Output shape: torch.Size([20, 5, 64])\n",
    "Are the outputs permutation-equivalent? True\n",
    "\n",
    "The following two lines should be identical:\n",
    "\n",
    "tensor([-0.0166, -0.4199, -0.5860,  0.3721,  0.5411,  0.4073,  0.8418,  0.2554,\n",
    "        -0.2712,  0.6178, -0.0495, -0.0552,  0.6988, -0.3643,  0.7696],\n",
    "       grad_fn=<SliceBackward0>)\n",
    "       \n",
    "tensor([-0.0166, -0.4199, -0.5860,  0.3721,  0.5411,  0.4073,  0.8418,  0.2554,\n",
    "        -0.2712,  0.6178, -0.0495, -0.0552,  0.6988, -0.3643,  0.7696],\n",
    "       grad_fn=<SliceBackward0>)"
   ]
  },
  {
   "cell_type": "code",
   "execution_count": 6,
   "metadata": {
    "id": "tJban62L7HBi"
   },
   "outputs": [
    {
     "name": "stdout",
     "output_type": "stream",
     "text": [
      "Output shape: torch.Size([20, 5, 64])\n",
      "Are the outputs permutation-equivalent? True\n",
      "The following two lines should be identical:\n",
      "tensor([-0.0166, -0.4199, -0.5860,  0.3721,  0.5411,  0.4073,  0.8418,  0.2554,\n",
      "        -0.2712,  0.6178, -0.0495, -0.0552,  0.6988, -0.3643,  0.7696],\n",
      "       grad_fn=<SliceBackward0>)\n",
      "tensor([-0.0166, -0.4199, -0.5860,  0.3721,  0.5411,  0.4073,  0.8418,  0.2554,\n",
      "        -0.2712,  0.6178, -0.0495, -0.0552,  0.6988, -0.3643,  0.7696],\n",
      "       grad_fn=<SliceBackward0>)\n"
     ]
    }
   ],
   "source": [
    "class SelfAttention(torch.nn.Module):\n",
    "    def __init__(self, d_in, d_k, d_v):\n",
    "        \"\"\"\n",
    "        Initialize the Self-Attention module.\n",
    "\n",
    "        Parameters:\n",
    "        d_in (int): Dimensionality of the input sequence.\n",
    "        d_k (int): Dimensionality of the queries and keys.\n",
    "        d_v (int): Dimensionality of the values.\n",
    "        \"\"\"\n",
    "        super(SelfAttention, self).__init__()\n",
    "        # <YOUR CODE HERE>\n",
    "        self.W_q = nn.Linear(d_in, d_k)\n",
    "        self.W_k = nn.Linear(d_in, d_k)\n",
    "        self.W_v = nn.Linear(d_in, d_v)\n",
    "        # <END YOUR CODE>\n",
    "\n",
    "    def forward(self, X, mask=None):\n",
    "        \"\"\"\n",
    "        Compute the self-attention for the input sequence.\n",
    "\n",
    "        Parameters:\n",
    "        X (torch.Tensor): Input sequence of shape (batch_size, seq_len, d_model)\n",
    "\n",
    "        Returns:\n",
    "        torch.Tensor: Output sequence of shape (batch_size, seq_len, d_model)\n",
    "        torch.Tensor: Attention weights of shape (batch_size, seq_len, seq_len)\n",
    "        \"\"\"\n",
    "        # <YOUR CODE HERE>\n",
    "        Q = self.W_q(X)\n",
    "        K = self.W_k(X)\n",
    "        V = self.W_v(X)\n",
    "        out, weights = attention_score(Q, K, V, mask=mask)\n",
    "        return out\n",
    "        # <END YOUR CODE>\n",
    "\n",
    "# Test the self-attention module\n",
    "\n",
    "torch.manual_seed(40)\n",
    "batch_size = 20\n",
    "seq_len = 5\n",
    "d_in = 32\n",
    "d_k = 512\n",
    "d_v = 64\n",
    "\n",
    "X = torch.ones(batch_size, seq_len, d_in)\n",
    "self_attention = SelfAttention(d_in, d_k, d_v)\n",
    "output = self_attention(X)\n",
    "\n",
    "print(\"Output shape:\", output.shape)\n",
    "\n",
    "# Check the permutation-equivalent property of self-attention\n",
    "perm = torch.randperm(seq_len)\n",
    "\n",
    "permuted_X = X[:, perm, :]\n",
    "\n",
    "# Forward pass with permuted input\n",
    "permuted_output = self_attention(permuted_X)\n",
    "\n",
    "# Apply the same permutation to the original output to compare\n",
    "repermuted_output = output[:, perm, :]\n",
    "\n",
    "# Check if the outputs are the same (up to numerical precision)\n",
    "are_outputs_equivalent = torch.allclose(permuted_output, repermuted_output, atol=1e-3)\n",
    "\n",
    "print(\"Are the outputs permutation-equivalent?\", are_outputs_equivalent)\n",
    "print(\"The following two lines should be identical:\")\n",
    "print(permuted_output[-1,1,:15])\n",
    "print(repermuted_output[-1,1,:15])"
   ]
  },
  {
   "cell_type": "markdown",
   "metadata": {
    "id": "C13rckw8oKyr"
   },
   "source": [
    "# Exercise 4: Multi-head Self-Attention Module (30 points)\n",
    "\n",
    "Self-attention mechanisms allow a model to focus on different parts of the input sequence while processing each element. In the multi-head attention setup, multiple attention heads are computed in parallel, and their results are concatenated, which allows the model to capture information from different subspaces. Specifically, multi-head self-attention passes the input to each attention module, concatenates the outputs, and apply a linear layer to obtain the final output:\n",
    "$$\n",
    "\\operatorname{MultiHead}(Q, K, V)=\\operatorname{Concat}\\left(\\text {head}_1, \\text {head}_2, \\ldots, \\text {head}_h \\right) W^O,\n",
    "$$\n",
    "$$\n",
    "\\operatorname{head}_i=\\operatorname{Attention}\\left(Q W_i^Q, K W_i^K, V W_i^V\\right),\n",
    "$$\n",
    "where $W_i^Q, W_i^K \\in \\mathbb{R}^{d_k \\times d_k}$, $W_i^V \\in \\mathbb{R}^{d_v \\times d_v}$ and corresponds to linear projection layers.\n",
    "\n",
    "If implemented correctly, the output should be like:\n",
    "\n",
    "tensor([ 0.3018, -0.3642,  0.0399, -0.1624, -0.2773, -0.5187, -0.0640, -0.2161,\n",
    "         0.0512,  0.1656, -0.0315, -0.2750,  0.1056,  0.1041, -0.0924],\n",
    "       grad_fn=<SliceBackward0>)\n",
    "Output shape: torch.Size([32, 10, 64])"
   ]
  },
  {
   "cell_type": "code",
   "execution_count": 11,
   "metadata": {
    "id": "a80mRY5J81LP"
   },
   "outputs": [
    {
     "name": "stdout",
     "output_type": "stream",
     "text": [
      "tensor([ 0.0533, -0.1455, -0.0892,  0.8899,  0.0070,  0.1469,  0.3093,  0.1435,\n",
      "         0.1516,  0.1635,  0.0947, -0.5663,  0.0643,  0.2037, -0.2584],\n",
      "       grad_fn=<SliceBackward0>)\n",
      "Output shape: torch.Size([32, 10, 64])\n"
     ]
    }
   ],
   "source": [
    "class MultiHeadSelfAttention(nn.Module):\n",
    "    def __init__(self, d_in, d_k, d_v, num_heads):\n",
    "        super(MultiHeadSelfAttention, self).__init__()\n",
    "        # <YOUR CODE HERE>\n",
    "        self.d_in = d_in\n",
    "        self.d_k = d_k\n",
    "        self.d_v = d_v\n",
    "        self.num_heads = num_heads\n",
    "        \n",
    "        self.heads = nn.ModuleList([SelfAttention(d_in, d_k, d_v) for _ in range(num_heads)])\n",
    "        self.W_o = torch.nn.Linear(d_v * num_heads, d_v)\n",
    "        # <END YOUR CODE>\n",
    "\n",
    "    def forward(self, X, mask=None):\n",
    "        # <YOUR CODE HERE>\n",
    "        batch_size, seq_len, _ = X.size()\n",
    "        out = torch.cat([head(X, mask=mask) for head in self.heads], dim=-1)\n",
    "        return self.W_o(out)\n",
    "        # <END YOUR CODE>\n",
    "\n",
    "\n",
    "# Test Multi-Head Attention\n",
    "\n",
    "torch.manual_seed(40)\n",
    "batch_size = 32\n",
    "seq_len = 10\n",
    "d_in = 256\n",
    "d_k = 512\n",
    "d_v = 64\n",
    "num_heads = 8\n",
    "\n",
    "X = torch.ones((batch_size, seq_len, d_in))\n",
    "\n",
    "multi_head_attention = MultiHeadSelfAttention(d_in, d_k, d_v, num_heads)\n",
    "\n",
    "output = multi_head_attention(X)\n",
    "\n",
    "print(output[-1,1,:15])\n",
    "print(\"Output shape:\", output.shape)"
   ]
  },
  {
   "cell_type": "code",
   "execution_count": null,
   "metadata": {},
   "outputs": [],
   "source": []
  }
 ],
 "metadata": {
  "colab": {
   "provenance": []
  },
  "kernelspec": {
   "display_name": "Python 3 (ipykernel)",
   "language": "python",
   "name": "python3"
  },
  "language_info": {
   "codemirror_mode": {
    "name": "ipython",
    "version": 3
   },
   "file_extension": ".py",
   "mimetype": "text/x-python",
   "name": "python",
   "nbconvert_exporter": "python",
   "pygments_lexer": "ipython3",
   "version": "3.10.15"
  }
 },
 "nbformat": 4,
 "nbformat_minor": 4
}
