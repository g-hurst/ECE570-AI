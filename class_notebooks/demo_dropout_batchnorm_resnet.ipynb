{
 "cells": [
  {
   "cell_type": "markdown",
   "metadata": {
    "id": "cra2hqhLdroU"
   },
   "source": [
    "# Tutorial on CIFAR10 CNN, Dropout, BatchNorm, and Residual Networks\n",
    "\n",
    "# Part I: Tutorial on CIFAR10 CNN.\n",
    "Part I is adapted from PyTorch tutorial: https://pytorch.org/tutorials/beginner/blitz/cifar10_tutorial.html\n",
    "\n",
    "## Load data (skipping details see tutorial for details)"
   ]
  },
  {
   "cell_type": "code",
   "execution_count": null,
   "metadata": {
    "colab": {
     "base_uri": "https://localhost:8080/",
     "height": 248
    },
    "id": "nAeTy39idroV",
    "outputId": "53f4112e-22a0-44bb-a8c6-16bc07bb4caa"
   },
   "outputs": [
    {
     "name": "stdout",
     "output_type": "stream",
     "text": [
      "Files already downloaded and verified\n",
      "Files already downloaded and verified\n"
     ]
    },
    {
     "data": {
      "image/png": "[encoded data removed]",
      "text/plain": [
       "<Figure size 640x480 with 1 Axes>"
      ]
     },
     "metadata": {},
     "output_type": "display_data"
    },
    {
     "name": "stdout",
     "output_type": "stream",
     "text": [
      " ship  deer  frog  bird\n"
     ]
    }
   ],
   "source": [
    "import torch\n",
    "import torchvision\n",
    "import torchvision.transforms as transforms\n",
    "\n",
    "transform = transforms.Compose(\n",
    "    [transforms.ToTensor(),\n",
    "     transforms.Normalize((0.5, 0.5, 0.5), (0.5, 0.5, 0.5))])\n",
    "\n",
    "trainset = torchvision.datasets.CIFAR10(root='./data', train=True,\n",
    "                                        download=True, transform=transform)\n",
    "trainloader = torch.utils.data.DataLoader(trainset, batch_size=4,\n",
    "                                          shuffle=True, num_workers=2)\n",
    "\n",
    "testset = torchvision.datasets.CIFAR10(root='./data', train=False,\n",
    "                                       download=True, transform=transform)\n",
    "testloader = torch.utils.data.DataLoader(testset, batch_size=4,\n",
    "                                         shuffle=False, num_workers=2)\n",
    "\n",
    "classes = ('plane', 'car', 'bird', 'cat',\n",
    "           'deer', 'dog', 'frog', 'horse', 'ship', 'truck')\n",
    "\n",
    "import matplotlib.pyplot as plt\n",
    "import numpy as np\n",
    "\n",
    "# functions to show an image\n",
    "\n",
    "\n",
    "def imshow(img):\n",
    "    img = img / 2 + 0.5     # unnormalize\n",
    "    npimg = img.numpy()\n",
    "    plt.imshow(np.transpose(npimg, (1, 2, 0)))\n",
    "    plt.show()\n",
    "\n",
    "\n",
    "# get some random training images\n",
    "dataiter = iter(trainloader)\n",
    "# images, labels = dataiter.next()\n",
    "images, labels = next(dataiter)\n",
    "\n",
    "# show images\n",
    "imshow(torchvision.utils.make_grid(images))\n",
    "# print labels\n",
    "print(' '.join('%5s' % classes[labels[j]] for j in range(4)))"
   ]
  },
  {
   "cell_type": "markdown",
   "metadata": {
    "id": "3o2NmClddroW"
   },
   "source": [
    "# Define a Convolutional Neural Network\n"
   ]
  },
  {
   "cell_type": "code",
   "execution_count": null,
   "metadata": {
    "id": "5zuTBfnOdroW"
   },
   "outputs": [],
   "source": [
    "import torch.nn as nn\n",
    "import torch.nn.functional as F\n",
    "\n",
    "class Net(nn.Module):\n",
    "    def __init__(self):\n",
    "        super(Net, self).__init__()\n",
    "        # nn.Conv2d(in_channels, out_channels/n_filters, kernel_size)\n",
    "        self.conv1 = nn.Conv2d(3, 6, 5)\n",
    "        # nn.MaxPool2d(kernel_size, stride)\n",
    "        self.pool = nn.MaxPool2d(2, 2)\n",
    "        self.conv2 = nn.Conv2d(6, 16, 5)\n",
    "        # nn.Linear(in_features, out_features)\n",
    "        self.fc1 = nn.Linear(16 * 5 * 5, 120)\n",
    "        self.fc2 = nn.Linear(120, 84)\n",
    "        self.fc3 = nn.Linear(84, 10)\n",
    "\n",
    "    def forward(self, x):\n",
    "        # Input is (N, 3, 32, 32)\n",
    "        x = self.pool(F.relu(self.conv1(x)))  # (N, 6, 14, 14)\n",
    "        x = self.pool(F.relu(self.conv2(x)))  # (N, 16, 5, 5)\n",
    "        x = x.view(-1, 16 * 5 * 5) # (N, 400)\n",
    "        x = F.relu(self.fc1(x))  # (N, 120)\n",
    "        x = F.relu(self.fc2(x))  # (N, 84)\n",
    "        x = self.fc3(x)  # (N, 10)\n",
    "        return x\n",
    "\n",
    "net = Net()"
   ]
  },
  {
   "cell_type": "markdown",
   "metadata": {
    "id": "OKR6ubV7droX"
   },
   "source": [
    "# Define a Loss function and optimizer\n",
    "Let's use a Classification Cross-Entropy loss and SGD with momentum.\n",
    "\n"
   ]
  },
  {
   "cell_type": "code",
   "execution_count": null,
   "metadata": {
    "id": "DHv33S0BdroX"
   },
   "outputs": [],
   "source": [
    "import torch.optim as optim\n",
    "\n",
    "criterion = nn.CrossEntropyLoss()\n",
    "optimizer = optim.SGD(net.parameters(), lr=0.001, momentum=0.9)"
   ]
  },
  {
   "cell_type": "markdown",
   "metadata": {
    "id": "dF6hb0xOdroX"
   },
   "source": [
    "# Train the network\n",
    "\n",
    "This is when things start to get interesting.\n",
    "We simply have to loop over our data iterator, and feed the inputs to the\n",
    "network and optimize.\n",
    "\n"
   ]
  },
  {
   "cell_type": "code",
   "execution_count": null,
   "metadata": {
    "colab": {
     "base_uri": "https://localhost:8080/"
    },
    "id": "itJ-nk8xdroY",
    "outputId": "7a0d76b0-cc49-4307-a8b5-3e8b0c8200f0"
   },
   "outputs": [
    {
     "name": "stdout",
     "output_type": "stream",
     "text": [
      "[1,  2000] loss: 2.174\n",
      "[1,  4000] loss: 1.842\n",
      "[1,  6000] loss: 1.686\n",
      "[1,  8000] loss: 1.584\n",
      "[1, 10000] loss: 1.522\n",
      "[1, 12000] loss: 1.479\n",
      "[2,  2000] loss: 1.393\n",
      "[2,  4000] loss: 1.381\n",
      "[2,  6000] loss: 1.357\n",
      "[2,  8000] loss: 1.337\n",
      "[2, 10000] loss: 1.302\n",
      "[2, 12000] loss: 1.282\n",
      "Finished Training\n"
     ]
    }
   ],
   "source": [
    "for epoch in range(2):  # loop over the dataset multiple times\n",
    "\n",
    "    running_loss = 0.0\n",
    "    for i, data in enumerate(trainloader, 0):\n",
    "        # get the inputs; data is a list of [inputs, labels]\n",
    "        inputs, labels = data\n",
    "\n",
    "        # zero the parameter gradients\n",
    "        optimizer.zero_grad()\n",
    "\n",
    "        # forward + backward + optimize\n",
    "        outputs = net(inputs)\n",
    "        loss = criterion(outputs, labels)\n",
    "        loss.backward()\n",
    "        optimizer.step()\n",
    "\n",
    "        # print statistics\n",
    "        running_loss += loss.item()\n",
    "        if i % 2000 == 1999:    # print every 2000 mini-batches\n",
    "            print('[%d, %5d] loss: %.3f' %\n",
    "                  (epoch + 1, i + 1, running_loss / 2000))\n",
    "            running_loss = 0.0\n",
    "\n",
    "print('Finished Training')"
   ]
  },
  {
   "cell_type": "markdown",
   "metadata": {
    "id": "qS0XdLDUdroY"
   },
   "source": [
    "Let's quickly save our trained model:\n",
    "\n"
   ]
  },
  {
   "cell_type": "code",
   "execution_count": null,
   "metadata": {
    "id": "LQRR3aNwdroY"
   },
   "outputs": [],
   "source": [
    "PATH = './cifar_net.pth'\n",
    "torch.save(net.state_dict(), PATH)"
   ]
  },
  {
   "cell_type": "markdown",
   "metadata": {
    "id": "PEXy4wntdroY"
   },
   "source": [
    "See `here <https://pytorch.org/docs/stable/notes/serialization.html>`_\n",
    "for more details on saving PyTorch models.\n",
    "\n",
    "# Test the network on the test data\n",
    "\n",
    "We have trained the network for 2 passes over the training dataset.\n",
    "But we need to check if the network has learnt anything at all.\n",
    "\n",
    "We will check this by predicting the class label that the neural network\n",
    "outputs, and checking it against the ground-truth. If the prediction is\n",
    "correct, we add the sample to the list of correct predictions.\n",
    "\n",
    "Okay, first step. Let us display an image from the test set to get familiar.\n",
    "\n"
   ]
  },
  {
   "cell_type": "code",
   "execution_count": null,
   "metadata": {
    "colab": {
     "base_uri": "https://localhost:8080/",
     "height": 211
    },
    "id": "2JpwTnt4droZ",
    "outputId": "3ea56215-6947-4980-f70a-2ed63e4ae8c0"
   },
   "outputs": [
    {
     "data": {
      "image/png": "[encoded data removed]",
      "text/plain": [
       "<Figure size 640x480 with 1 Axes>"
      ]
     },
     "metadata": {},
     "output_type": "display_data"
    },
    {
     "name": "stdout",
     "output_type": "stream",
     "text": [
      "GroundTruth:    cat  ship  ship plane\n"
     ]
    }
   ],
   "source": [
    "dataiter = iter(testloader)\n",
    "# images, labels = dataiter.next()\n",
    "images, labels = next(dataiter)\n",
    "\n",
    "# print images\n",
    "imshow(torchvision.utils.make_grid(images))\n",
    "print('GroundTruth: ', ' '.join('%5s' % classes[labels[j]] for j in range(4)))"
   ]
  },
  {
   "cell_type": "markdown",
   "metadata": {
    "id": "rul6lugPdroZ"
   },
   "source": [
    "Next, let's load back in our saved model (note: saving and re-loading the model\n",
    "wasn't necessary here, we only did it to illustrate how to do so):\n",
    "\n"
   ]
  },
  {
   "cell_type": "code",
   "execution_count": null,
   "metadata": {
    "colab": {
     "base_uri": "https://localhost:8080/"
    },
    "id": "jM30mBCgdroZ",
    "outputId": "6f5eabbb-7eec-4575-9f03-c4d356926ecc"
   },
   "outputs": [
    {
     "name": "stderr",
     "output_type": "stream",
     "text": [
      "<ipython-input-15-8b61435874a9>:2: FutureWarning: You are using `torch.load` with `weights_only=False` (the current default value), which uses the default pickle module implicitly. It is possible to construct malicious pickle data which will execute arbitrary code during unpickling (See https://github.com/pytorch/pytorch/blob/main/SECURITY.md#untrusted-models for more details). In a future release, the default value for `weights_only` will be flipped to `True`. This limits the functions that could be executed during unpickling. Arbitrary objects will no longer be allowed to be loaded via this mode unless they are explicitly allowlisted by the user via `torch.serialization.add_safe_globals`. We recommend you start setting `weights_only=True` for any use case where you don't have full control of the loaded file. Please open an issue on GitHub for any issues related to this experimental feature.\n",
      "  net.load_state_dict(torch.load(PATH))\n"
     ]
    },
    {
     "data": {
      "text/plain": [
       "<All keys matched successfully>"
      ]
     },
     "execution_count": 15,
     "metadata": {},
     "output_type": "execute_result"
    }
   ],
   "source": [
    "net = Net()\n",
    "net.load_state_dict(torch.load(PATH))"
   ]
  },
  {
   "cell_type": "markdown",
   "metadata": {
    "id": "wmCNLVy2droZ"
   },
   "source": [
    "Okay, now let us see what the neural network thinks these examples above are:\n",
    "\n"
   ]
  },
  {
   "cell_type": "code",
   "execution_count": null,
   "metadata": {
    "id": "kssSnkQOdroZ"
   },
   "outputs": [],
   "source": [
    "outputs = net(images)"
   ]
  },
  {
   "cell_type": "markdown",
   "metadata": {
    "id": "fpqDftvydroZ"
   },
   "source": [
    "The outputs are energies for the 10 classes.\n",
    "The higher the energy for a class, the more the network\n",
    "thinks that the image is of the particular class.\n",
    "So, let's get the index of the highest energy:\n",
    "\n"
   ]
  },
  {
   "cell_type": "code",
   "execution_count": null,
   "metadata": {
    "colab": {
     "base_uri": "https://localhost:8080/"
    },
    "id": "H2YvAzYZdroZ",
    "outputId": "07a04597-88c7-4d07-e677-823d9b498d66"
   },
   "outputs": [
    {
     "name": "stdout",
     "output_type": "stream",
     "text": [
      "Predicted:    cat   car  ship  ship\n"
     ]
    }
   ],
   "source": [
    "_, predicted = torch.max(outputs, 1)\n",
    "\n",
    "print('Predicted: ', ' '.join('%5s' % classes[predicted[j]]\n",
    "                              for j in range(4)))"
   ]
  },
  {
   "cell_type": "markdown",
   "metadata": {
    "id": "Cfto_9nxdroZ"
   },
   "source": [
    "The results seem pretty good.\n",
    "\n",
    "Let us look at how the network performs on the whole dataset.\n",
    "\n"
   ]
  },
  {
   "cell_type": "code",
   "execution_count": null,
   "metadata": {
    "colab": {
     "base_uri": "https://localhost:8080/"
    },
    "id": "Gn1xyyMidroZ",
    "outputId": "8f48c597-a8e6-4306-a3c9-0704e6a01c31"
   },
   "outputs": [
    {
     "name": "stdout",
     "output_type": "stream",
     "text": [
      "Accuracy of the network on the 10000 test images: 53 %\n"
     ]
    }
   ],
   "source": [
    "correct = 0\n",
    "total = 0\n",
    "with torch.no_grad():\n",
    "    for data in testloader:\n",
    "        images, labels = data\n",
    "        outputs = net(images)\n",
    "        _, predicted = torch.max(outputs.data, 1)\n",
    "        total += labels.size(0)\n",
    "        correct += (predicted == labels).sum().item()\n",
    "\n",
    "print('Accuracy of the network on the 10000 test images: %d %%' % (\n",
    "    100 * correct / total))"
   ]
  },
  {
   "cell_type": "markdown",
   "metadata": {
    "id": "TB1679UKdroa"
   },
   "source": [
    "That looks way better than chance, which is 10% accuracy (randomly picking\n",
    "a class out of 10 classes).\n",
    "Seems like the network learnt something.\n",
    "\n",
    "Hmmm, what are the classes that performed well, and the classes that did\n",
    "not perform well:\n",
    "\n"
   ]
  },
  {
   "cell_type": "code",
   "execution_count": null,
   "metadata": {
    "colab": {
     "base_uri": "https://localhost:8080/"
    },
    "id": "_upN7pZQdroa",
    "outputId": "63c81318-b9e3-4cf5-de70-26bb33918f42"
   },
   "outputs": [
    {
     "name": "stdout",
     "output_type": "stream",
     "text": [
      "Accuracy of plane : 39 %\n",
      "Accuracy of   car : 55 %\n",
      "Accuracy of  bird : 38 %\n",
      "Accuracy of   cat : 31 %\n",
      "Accuracy of  deer : 54 %\n",
      "Accuracy of   dog : 45 %\n",
      "Accuracy of  frog : 56 %\n",
      "Accuracy of horse : 66 %\n",
      "Accuracy of  ship : 77 %\n",
      "Accuracy of truck : 73 %\n"
     ]
    }
   ],
   "source": [
    "class_correct = list(0. for i in range(10))\n",
    "class_total = list(0. for i in range(10))\n",
    "with torch.no_grad():\n",
    "    for data in testloader:\n",
    "        images, labels = data\n",
    "        outputs = net(images)\n",
    "        _, predicted = torch.max(outputs, 1)\n",
    "        c = (predicted == labels).squeeze()\n",
    "        for i in range(4):\n",
    "            label = labels[i]\n",
    "            class_correct[label] += c[i].item()\n",
    "            class_total[label] += 1\n",
    "\n",
    "\n",
    "for i in range(10):\n",
    "    print('Accuracy of %5s : %2d %%' % (\n",
    "        classes[i], 100 * class_correct[i] / class_total[i]))"
   ]
  },
  {
   "cell_type": "markdown",
   "metadata": {
    "id": "IdSyd-RmsmrG"
   },
   "source": [
    "# Part II: Demo of three concepts: dropout, batch normalization, and resnet\n",
    "\n",
    "# Demo of dropout"
   ]
  },
  {
   "cell_type": "code",
   "execution_count": null,
   "metadata": {
    "colab": {
     "base_uri": "https://localhost:8080/"
    },
    "id": "1va_NZeOsjxA",
    "outputId": "49885ac5-1acf-475a-8a09-e8c350504bec"
   },
   "outputs": [
    {
     "name": "stdout",
     "output_type": "stream",
     "text": [
      "tensor([[ 0.0938, -1.7175, -0.0658],\n",
      "        [-0.4296, -0.8159,  0.9614],\n",
      "        [ 0.5998,  0.2076, -0.1042],\n",
      "        [ 1.4626, -2.0004,  0.7581],\n",
      "        [ 0.9074, -0.3633,  1.1246],\n",
      "        [-1.0347,  0.6877, -2.8570]])\n",
      "tensor([[ 0.0000, -0.0000, -0.1316],\n",
      "        [-0.8591, -0.0000,  0.0000],\n",
      "        [ 0.0000,  0.0000, -0.2085],\n",
      "        [ 2.9251, -0.0000,  0.0000],\n",
      "        [ 1.8149, -0.0000,  2.2491],\n",
      "        [-2.0695,  0.0000, -5.7141]])\n"
     ]
    }
   ],
   "source": [
    "m = nn.Dropout() # default dropout rate: p=0.5\n",
    "input = torch.randn(6, 3)\n",
    "output = m(input)\n",
    "print(input)\n",
    "print(output) # the output is scaled up by 1/(1-p)"
   ]
  },
  {
   "cell_type": "markdown",
   "metadata": {
    "id": "71vEWD60droa"
   },
   "source": [
    "# Demo of batchnorm\n"
   ]
  },
  {
   "cell_type": "code",
   "execution_count": null,
   "metadata": {
    "id": "w1M_Wo5jdroa"
   },
   "outputs": [],
   "source": [
    "# Demo of batchnorm\n",
    "import torch\n",
    "import torch.nn as nn\n",
    "class BatchNormModel(nn.Module):\n",
    "    def __init__(self, n_channels):\n",
    "        super().__init__()\n",
    "        self.bn = nn.BatchNorm2d(n_channels)\n",
    "\n",
    "    def forward(self, x):\n",
    "        x = self.bn(x)\n",
    "        return x\n",
    "\n"
   ]
  },
  {
   "cell_type": "markdown",
   "metadata": {
    "id": "C_3mJdEJdroa"
   },
   "source": [
    "### First let's create and inspect a batchnorm 2D (i.e., for images) layer"
   ]
  },
  {
   "cell_type": "code",
   "execution_count": null,
   "metadata": {
    "colab": {
     "base_uri": "https://localhost:8080/"
    },
    "id": "bba4j7uzdroa",
    "outputId": "0f32b755-451a-41eb-b6e7-84e03bd8fe27"
   },
   "outputs": [
    {
     "data": {
      "text/plain": [
       "[('weight',\n",
       "  Parameter containing:\n",
       "  tensor([1., 1., 1.], requires_grad=True)),\n",
       " ('bias',\n",
       "  Parameter containing:\n",
       "  tensor([0., 0., 0.], requires_grad=True))]"
      ]
     },
     "execution_count": 32,
     "metadata": {},
     "output_type": "execute_result"
    }
   ],
   "source": [
    "n_channels = 3 # Each channel is treated as a \"feature\" for images\n",
    "bn_model = nn.BatchNorm2d(n_channels)\n",
    "list(bn_model.named_parameters())"
   ]
  },
  {
   "cell_type": "markdown",
   "metadata": {
    "id": "lJkuIO9Vdroa"
   },
   "source": [
    "Notice that there are weight and bias parameters for each channel.\n",
    "\n",
    "### Let's investigate the layer's behavior during training"
   ]
  },
  {
   "cell_type": "code",
   "execution_count": null,
   "metadata": {
    "colab": {
     "base_uri": "https://localhost:8080/"
    },
    "id": "s4aVmHlFdroa",
    "outputId": "21c761e7-9e71-4ef1-ae2c-62d9793edbe3"
   },
   "outputs": [
    {
     "name": "stdout",
     "output_type": "stream",
     "text": [
      "batch1: Mean and standard deviation across channels\n",
      "tensor([0.0107, 1.0870, 2.0128])\n",
      "tensor([2.0200, 1.9704, 2.1094])\n",
      "\n",
      "out1: Mean and standard deviation across channels\n",
      "tensor([ 8.0466e-09, -1.2368e-08, -2.0564e-08], grad_fn=<MeanBackward1>)\n",
      "tensor([1.0000, 1.0000, 1.0000], grad_fn=<StdBackward0>)\n",
      "\n",
      "batch2: Mean and standard deviation across channels\n",
      "tensor([-4.9791, -5.2417, -4.8956])\n",
      "tensor([3.0027, 3.0281, 2.9813])\n",
      "\n",
      "out2: Mean and standard deviation across channels\n",
      "tensor([ 5.3346e-08,  1.0118e-07, -4.6939e-08], grad_fn=<MeanBackward1>)\n",
      "tensor([1.0000, 1.0000, 1.0000], grad_fn=<StdBackward0>)\n",
      "\n"
     ]
    }
   ],
   "source": [
    "def print_mean_std(A, label='unlabeled'):\n",
    "    print(f'{label}: Mean and standard deviation across channels')\n",
    "    print(torch.mean(A, dim=(0,2,3))) # Sum\n",
    "    print(torch.std(A, dim=(0,2,3), unbiased=False))\n",
    "    print()\n",
    "\n",
    "torch.manual_seed(0)\n",
    "bn_model.train()\n",
    "batch1 = 2*torch.randn((100, n_channels, 2, 2)) + torch.arange(n_channels).reshape(1,n_channels,1,1) # (N, C, H, W)\n",
    "batch2 = 3*torch.randn((100, n_channels, 2, 2)) + -5 # (N, C, H, W)\n",
    "out1 = bn_model(batch1)\n",
    "out2 = bn_model(batch2)\n",
    "\n",
    "print_mean_std(batch1, 'batch1')\n",
    "print_mean_std(out1, 'out1')\n",
    "print_mean_std(batch2, 'batch2')\n",
    "print_mean_std(out2, 'out2')"
   ]
  },
  {
   "cell_type": "markdown",
   "metadata": {
    "id": "orWt10Ohdrob"
   },
   "source": [
    "Notice that even though distributions of the batches are quite different and different across channels, the output has been renormalized across the channel to always have zero mean and unit variance."
   ]
  },
  {
   "cell_type": "markdown",
   "metadata": {
    "id": "cDkEGHqkdrob"
   },
   "source": [
    "### What about during test time?\n",
    "Let's set simulate two simple batches and then apply at test time"
   ]
  },
  {
   "cell_type": "code",
   "execution_count": null,
   "metadata": {
    "colab": {
     "base_uri": "https://localhost:8080/"
    },
    "id": "X1B8uV72drob",
    "outputId": "666dd199-f347-41bc-cbb6-5e5bc7cda8e2"
   },
   "outputs": [
    {
     "name": "stdout",
     "output_type": "stream",
     "text": [
      "Running mean and standard devaiation\n",
      "tensor([0.0987, 0.2405, 0.4342])\n",
      "tensor([1.3707, 1.3690, 1.3793])\n",
      "\n",
      "batch1: Mean and standard deviation across channels\n",
      "tensor([0.0054, 1.0435, 2.0064])\n",
      "tensor([1.0100, 0.9852, 1.0547])\n",
      "\n",
      "out1: Mean and standard deviation across channels\n",
      "tensor([-0.0681,  0.5865,  1.1398], grad_fn=<MeanBackward1>)\n",
      "tensor([0.7368, 0.7197, 0.7647], grad_fn=<StdBackward0>)\n",
      "\n",
      "batch2: Mean and standard deviation across channels\n",
      "tensor([5.0070, 4.9194, 5.0348])\n",
      "tensor([1.0009, 1.0094, 0.9938])\n",
      "\n",
      "out2: Mean and standard deviation across channels\n",
      "tensor([3.5808, 3.4178, 3.3355], grad_fn=<MeanBackward1>)\n",
      "tensor([0.7302, 0.7373, 0.7205], grad_fn=<StdBackward0>)\n",
      "\n"
     ]
    }
   ],
   "source": [
    "torch.manual_seed(0)\n",
    "batch1 = torch.randn((100, n_channels, 2, 2)) + torch.arange(n_channels).reshape(1,n_channels,1,1) # (N, C, H, W)\n",
    "batch2 = torch.randn((100, n_channels, 2, 2)) + 5 # (N, C, H, W)\n",
    "\n",
    "bn_model.train()\n",
    "out1 = bn_model(batch1)\n",
    "out2 = bn_model(batch2)\n",
    "\n",
    "bn_model.eval()  # Turn OFF dynamic normalization\n",
    "print('Running mean and standard devaiation')\n",
    "print(bn_model.running_mean)\n",
    "print(torch.sqrt(bn_model.running_var))\n",
    "print()\n",
    "\n",
    "out1 = bn_model(batch1)\n",
    "out2 = bn_model(batch2)\n",
    "print_mean_std(batch1, 'batch1')\n",
    "print_mean_std(out1, 'out1')\n",
    "print_mean_std(batch2, 'batch2')\n",
    "print_mean_std(out2, 'out2')"
   ]
  },
  {
   "cell_type": "markdown",
   "metadata": {
    "id": "f0ql_PtNdrob"
   },
   "source": [
    "Notice that the running mean and running standard deviation are used for normalization during test time rather than the batch.\n",
    "Thus, it is important to set `model.eval()` or `model.train()` when running models with BatchNorm or other specialized layers.  Generally, it is just good practice to do this no matter what during training and testing."
   ]
  },
  {
   "cell_type": "markdown",
   "metadata": {
    "id": "97VFuoGfdrob"
   },
   "source": [
    "### Very simple residual network in PyTorch\n",
    "(See https://towardsdatascience.com/residual-network-implementing-resnet-a7da63c7b278 for a tutorial on the real ResNet architectures from https://arxiv.org/abs/1512.03385)"
   ]
  },
  {
   "cell_type": "code",
   "execution_count": null,
   "metadata": {
    "id": "sBkH3JKodrob"
   },
   "outputs": [],
   "source": [
    "import torch.nn as nn\n",
    "import torch.nn.functional as F\n",
    "\n",
    "class ResidualNet(nn.Module):\n",
    "    def __init__(self):\n",
    "        super().__init__()\n",
    "        # nn.Conv2d(in_channels, out_channels/n_filters, kernel_size)\n",
    "        self.conv1 = nn.Conv2d(3, 16, 5)\n",
    "        # nn.MaxPool2d(kernel_size, stride)\n",
    "        self.pool = nn.MaxPool2d(2, 2)\n",
    "        self.conv2 = nn.Conv2d(16, 16, 5, padding=2)\n",
    "        self.conv2_bn = nn.BatchNorm2d(16)\n",
    "        # nn.Linear(in_features, out_features)\n",
    "        self.fc1 = nn.Linear(16 * 7 * 7, 120)\n",
    "        self.fc2 = nn.Linear(120, 120)\n",
    "        self.dropout = nn.Dropout(p=0.2)\n",
    "        # self.fc2_bn = nn.BatchNorm1d(120)\n",
    "        self.fc3 = nn.Linear(120, 10)\n",
    "\n",
    "    def forward(self, x):\n",
    "        # Input is (N, 3, 32, 32)\n",
    "        x = self.pool(F.relu(self.conv1(x)))  # (N, 16, 14, 14)\n",
    "        x = self.pool(F.relu(self.conv2(x)) + x)  # (N, 16, 7, 7)\n",
    "        # x = self.pool(F.relu(self.conv2_bn(self.conv2(x))))  # (N, 16, 7, 7)\n",
    "        x = x.view(-1, 16 * 7 * 7)\n",
    "        x = F.relu(self.fc1(x))  # (N, 120)\n",
    "        x = self.dropout(x)\n",
    "        x = F.relu(self.fc2(x)) + x  # (N, 120)\n",
    "        # x = F.relu(self.fc2_bn(self.fc2(x)))  # (N, 120)\n",
    "        x = self.dropout(x)\n",
    "        x = self.fc3(x)  # (N, 10)\n",
    "        return x\n",
    "\n",
    "net = ResidualNet()"
   ]
  },
  {
   "cell_type": "markdown",
   "metadata": {
    "id": "flbsSQ9Idrob"
   },
   "source": [
    "Notice that we merely need to add x back in.  PyTorch autograd takes care of the rest. (The real resnets are a bit more complicated but the basic idea is the same.)\n",
    "\n",
    "### Let's train our very simple residual network"
   ]
  },
  {
   "cell_type": "code",
   "execution_count": null,
   "metadata": {
    "colab": {
     "base_uri": "https://localhost:8080/"
    },
    "id": "2CRMr7mydroc",
    "outputId": "8f88d60e-d27c-4537-fd8e-e377d33fe508"
   },
   "outputs": [
    {
     "name": "stdout",
     "output_type": "stream",
     "text": [
      "[1,  2000] loss: 1.972\n",
      "[1,  4000] loss: 1.663\n",
      "[1,  6000] loss: 1.536\n",
      "[1,  8000] loss: 1.462\n",
      "[1, 10000] loss: 1.427\n",
      "[1, 12000] loss: 1.361\n",
      "[2,  2000] loss: 1.271\n",
      "[2,  4000] loss: 1.252\n",
      "[2,  6000] loss: 1.268\n",
      "[2,  8000] loss: 1.207\n",
      "[2, 10000] loss: 1.202\n",
      "[2, 12000] loss: 1.197\n",
      "Finished Training\n",
      "Accuracy of the original CNN on the 10000 test images: 53 %\n",
      "Accuracy of the new CNN on the 10000 test images: 57 %\n"
     ]
    }
   ],
   "source": [
    "import torch.optim as optim\n",
    "\n",
    "criterion = nn.CrossEntropyLoss()\n",
    "optimizer = optim.SGD(net.parameters(), lr=0.001, momentum=0.9)\n",
    "\n",
    "for epoch in range(2):  # loop over the dataset multiple times\n",
    "\n",
    "    running_loss = 0.0\n",
    "    for i, data in enumerate(trainloader, 0):\n",
    "        # get the inputs; data is a list of [inputs, labels]\n",
    "        inputs, labels = data\n",
    "\n",
    "        # zero the parameter gradients\n",
    "        optimizer.zero_grad()\n",
    "\n",
    "        # forward + backward + optimize\n",
    "        outputs = net(inputs)\n",
    "        loss = criterion(outputs, labels)\n",
    "        loss.backward()\n",
    "        optimizer.step()\n",
    "\n",
    "        # print statistics\n",
    "        running_loss += loss.item()\n",
    "        if i % 2000 == 1999:    # print every 2000 mini-batches\n",
    "            print('[%d, %5d] loss: %.3f' %\n",
    "                  (epoch + 1, i + 1, running_loss / 2000))\n",
    "            running_loss = 0.0\n",
    "\n",
    "print('Finished Training')\n",
    "\n",
    "correct = 0\n",
    "total = 0\n",
    "with torch.no_grad():\n",
    "    for data in testloader:\n",
    "        images, labels = data\n",
    "        outputs = net(images)\n",
    "        _, predicted = torch.max(outputs.data, 1)\n",
    "        total += labels.size(0)\n",
    "        correct += (predicted == labels).sum().item()\n",
    "\n",
    "print('Accuracy of the original CNN on the 10000 test images: %d %%' % (53))\n",
    "print('Accuracy of the new CNN on the 10000 test images: %d %%' % (\n",
    "    100 * correct / total))"
   ]
  },
  {
   "cell_type": "code",
   "execution_count": null,
   "metadata": {
    "id": "JFWt2UhOx_8i"
   },
   "outputs": [],
   "source": []
  }
 ],
 "metadata": {
  "colab": {
   "provenance": []
  },
  "kernelspec": {
   "display_name": "Python 3 (ipykernel)",
   "language": "python",
   "name": "python3"
  },
  "language_info": {
   "codemirror_mode": {
    "name": "ipython",
    "version": 3
   },
   "file_extension": ".py",
   "mimetype": "text/x-python",
   "name": "python",
   "nbconvert_exporter": "python",
   "pygments_lexer": "ipython3",
   "version": "3.9.19"
  }
 },
 "nbformat": 4,
 "nbformat_minor": 4
}
