{
 "cells": [
  {
   "cell_type": "markdown",
   "id": "837dc58f",
   "metadata": {},
   "source": [
    "# Broadcasting rules for elementwise operations (+,-,*,/)\n",
    "\n",
    "\"The term broadcasting describes how NumPy treats arrays with **different shapes** during arithmetic operations. Subject to certain constraints, the smaller array is “broadcast” across the larger array so that they have compatible shapes. Broadcasting provides a means of **vectorizing array operations so that looping occurs in C instead of Python**. It does this **without making needless copies of data** and usually leads to **efficient algorithm implementations**. There are, however, cases where broadcasting is a bad idea because it leads to inefficient use of memory that slows computation.\" (Quote from documentation below, emphasis mine)\n",
    "\n",
    "We will review the basics of broadcasting rules but please see the numpy broadcasting documentation below\n",
    "https://numpy.org/doc/stable/user/basics.broadcasting.html"
   ]
  },
  {
   "cell_type": "code",
   "execution_count": 1,
   "id": "21c2ba49",
   "metadata": {},
   "outputs": [],
   "source": [
    "import numpy as np"
   ]
  },
  {
   "cell_type": "markdown",
   "id": "7239c1ba",
   "metadata": {},
   "source": [
    "### Scalar addition / multiplication is a simple case of broadcasting that is already obvious and used even in math notation."
   ]
  },
  {
   "cell_type": "code",
   "execution_count": 3,
   "id": "9c4c550a",
   "metadata": {},
   "outputs": [
    {
     "name": "stdout",
     "output_type": "stream",
     "text": [
      "[0 1 2 3 4 5 6 7 8 9] [ 5  6  7  8  9 10 11 12 13 14] [ 0  5 10 15 20 25 30 35 40 45]\n"
     ]
    }
   ],
   "source": [
    "a = np.arange(10)\n",
    "print(a, 5 + a, 5 * a)"
   ]
  },
  {
   "cell_type": "markdown",
   "id": "c48ab00b",
   "metadata": {},
   "source": [
    "### A more advanced case is subtracting or dividing a vector from every row or column of a matrix\n",
    "In this example, for subtracting the column mean we need to make the vector a 2D array (a matrix with 1 column). This can be done by calling `a[:, None]` where `None` introduces a new dimension to the resulting array. In fact, you can add as many dimensions as you want using `None`. For example, if `a` has shape `(5,)`, then `b = a[None, :, None, None]` will have shape `(1,5,1,1)`. \n",
    "\n",
    "You can also use `a.reshape(-1, 1)` to add a new axis. For the `reshape` call, one shape dimension can be -1. In this case, the value is inferred from the length of the array and remaining dimensions, see https://numpy.org/doc/stable/reference/generated/numpy.ndarray.reshape.html for more details.\n",
    "\n",
    "More details on why this reshaping is needed will be given after a few broadcasting examples."
   ]
  },
  {
   "cell_type": "code",
   "execution_count": 30,
   "id": "7ace11ea",
   "metadata": {},
   "outputs": [
    {
     "name": "stdout",
     "output_type": "stream",
     "text": [
      "[[ 1  2  3  4  5]\n",
      " [ 2  4  6  8 10]\n",
      " [ 3  6  9 12 15]]\n",
      "Row mean [ 2.  4.  6.  8. 10.]\n",
      "Column mean [3. 6. 9.]\n",
      "data X dimension (3, 5)\n",
      "Row mean dimension (5,)\n",
      "Column mean dimension (3,)\n",
      "Remove mean from each row\n",
      " [[-1. -2. -3. -4. -5.]\n",
      " [ 0.  0.  0.  0.  0.]\n",
      " [ 1.  2.  3.  4.  5.]]\n",
      "Column mean dimension (3, 1)\n",
      "Remove mean from each column\n",
      " [[-2. -1.  0.  1.  2.]\n",
      " [-4. -2.  0.  2.  4.]\n",
      " [-6. -3.  0.  3.  6.]]\n"
     ]
    }
   ],
   "source": [
    "X = np.outer(np.arange(3)+1, np.arange(5)+1)\n",
    "row_mean = np.mean(X, axis=0)\n",
    "col_mean = np.mean(X, axis=1)\n",
    "print(X)\n",
    "print('Row mean', row_mean)\n",
    "print('Column mean', col_mean)\n",
    "print('data X dimension', X.shape)\n",
    "print('Row mean dimension', row_mean.shape)\n",
    "print('Column mean dimension', col_mean.shape)\n",
    "print('Remove mean from each row\\n', X - row_mean)\n",
    "#print('Remove mean from each column\\n', X - col_mean)\n",
    "print('Column mean dimension', col_mean.reshape(-1, 1).shape)\n",
    "print('Remove mean from each column\\n', X - col_mean.reshape(-1, 1))"
   ]
  },
  {
   "cell_type": "markdown",
   "id": "7197082c",
   "metadata": {},
   "source": [
    "### You can also divide each row and column by a vector (e.g., to normalize to have standard deviation of 1)"
   ]
  },
  {
   "cell_type": "code",
   "execution_count": 23,
   "id": "7d396842",
   "metadata": {},
   "outputs": [
    {
     "name": "stdout",
     "output_type": "stream",
     "text": [
      "Row Std dimension (5,)\n",
      "Column Std dimension (3,)\n",
      "Row normalized X\n",
      " [[-1.22474487 -1.22474487 -1.22474487 -1.22474487 -1.22474487]\n",
      " [ 0.          0.          0.          0.          0.        ]\n",
      " [ 1.22474487  1.22474487  1.22474487  1.22474487  1.22474487]]\n",
      "Col normalized X\n",
      " [[-1.41421356 -0.70710678  0.          0.70710678  1.41421356]\n",
      " [-1.41421356 -0.70710678  0.          0.70710678  1.41421356]\n",
      " [-1.41421356 -0.70710678  0.          0.70710678  1.41421356]]\n"
     ]
    }
   ],
   "source": [
    "row_std = np.std(X, axis=0)\n",
    "col_std = np.std(X, axis=1)\n",
    "print('Row Std dimension', row_std.shape)\n",
    "print('Column Std dimension', col_std.shape)\n",
    "print('Row normalized X\\n', (X - row_mean) / row_std)\n",
    "print('Col normalized X\\n', (X - col_mean[:, None]) / col_std[:, None])"
   ]
  },
  {
   "cell_type": "markdown",
   "id": "4c284827",
   "metadata": {},
   "source": [
    "# Two simple rules for broadcasting\n",
    "(Copied and slightly modified from documentation)\n",
    "\n",
    "When operating on two arrays, NumPy compares their shapes element-wise. It starts with the trailing (i.e. **rightmost**) dimension and works its way left. Two dimensions are compatible when\n",
    "\n",
    "1. they are equal, or\n",
    "2. one of them is 1.\n",
    "\n",
    "In addition, if the number of dimensions is different (e.g., comparing a 4D array to a 2D array), **missing dimensions will be assumed to have a size of 1.**\n",
    "\n",
    "If these conditions are not met, a `ValueError: operands could not be broadcast together` exception is thrown, indicating that the arrays have incompatible shapes.\n",
    "\n",
    "document url: https://numpy.org/doc/stable/user/basics.broadcasting.html"
   ]
  },
  {
   "cell_type": "code",
   "execution_count": 9,
   "id": "7899dd61",
   "metadata": {},
   "outputs": [
    {
     "name": "stdout",
     "output_type": "stream",
     "text": [
      "X and row_mean\n",
      "Input 1 shape:               (3, 5)\n",
      "Input 2 shape:                 (5,)\n",
      "Output shape:                (3, 5)\n",
      "\n",
      "X and col_mean\n",
      "Input 1 shape:               (3, 5)\n",
      "Input 2 shape:                 (3,)\n",
      "Output shape:  Invalid input shapes\n",
      "\n",
      "X and col_mean.reshape\n",
      "Input 1 shape:               (3, 5)\n",
      "Input 2 shape:               (3, 1)\n",
      "Output shape:                (3, 5)\n",
      "\n"
     ]
    }
   ],
   "source": [
    "def test_shapes(shape_1, shape_2):\n",
    "  input_1 = np.ones(shape_1)\n",
    "  input_2 = np.ones(shape_2)\n",
    "  print(f'Input 1 shape: {str(input_1.shape):>20}')\n",
    "  print(f'Input 2 shape: {str(input_2.shape):>20}')\n",
    "  \n",
    "  try:\n",
    "    output = input_1 * input_2\n",
    "  except ValueError as e:\n",
    "    output = None\n",
    "  if output is None:\n",
    "    output_shape = 'Invalid input shapes'\n",
    "  else:\n",
    "    output_shape = output.shape\n",
    "  print(f'Output shape:  {str(output_shape):>20}\\n')\n",
    "\n",
    "print('X and row_mean')\n",
    "test_shapes(X.shape, row_mean.shape)\n",
    "print('X and col_mean')\n",
    "test_shapes(X.shape, col_mean.shape)\n",
    "print('X and col_mean.reshape')\n",
    "test_shapes(X.shape, col_mean[:, None].shape)"
   ]
  },
  {
   "cell_type": "markdown",
   "id": "34ea169e",
   "metadata": {},
   "source": [
    "### Consider scaling each channel of an RGB image example"
   ]
  },
  {
   "cell_type": "code",
   "execution_count": 11,
   "id": "ae67085d",
   "metadata": {},
   "outputs": [
    {
     "name": "stdout",
     "output_type": "stream",
     "text": [
      "RGB image (matplotlib) and scale of each channel\n",
      "Input 1 shape:        (256, 256, 3)\n",
      "Input 2 shape:                 (3,)\n",
      "Output shape:         (256, 256, 3)\n",
      "\n",
      "RGB image (pytorch) and scale of each channel\n",
      "Input 1 shape:        (3, 256, 256)\n",
      "Input 2 shape:                 (3,)\n",
      "Output shape:  Invalid input shapes\n",
      "\n",
      "RGB image (pytorch) and scale of each channel\n",
      "Input 1 shape:        (3, 256, 256)\n",
      "Input 2 shape:            (3, 1, 1)\n",
      "Output shape:         (3, 256, 256)\n",
      "\n"
     ]
    }
   ],
   "source": [
    "scale = np.arange(3)\n",
    "print('RGB image (matplotlib) and scale of each channel')\n",
    "test_shapes((256, 256, 3), scale.shape)\n",
    "\n",
    "print('RGB image (pytorch) and scale of each channel')\n",
    "test_shapes((3, 256, 256), scale.shape)\n",
    "\n",
    "print('RGB image (pytorch) and scale of each channel')\n",
    "test_shapes((3, 256, 256), scale[:, None, None].shape)"
   ]
  },
  {
   "cell_type": "markdown",
   "id": "59744058",
   "metadata": {},
   "source": [
    "### Scaling each channel of each image in batch of 32 images"
   ]
  },
  {
   "cell_type": "code",
   "execution_count": 13,
   "id": "2c69f983",
   "metadata": {},
   "outputs": [
    {
     "name": "stdout",
     "output_type": "stream",
     "text": [
      "Scaling the channels of a batch of 32 pytorch RGB images\n",
      "Input 1 shape:    (32, 3, 256, 256)\n",
      "Input 2 shape:                 (3,)\n",
      "Output shape:  Invalid input shapes\n",
      "\n",
      "Scaling the channels of a batch of 32 pytorch RGB images\n",
      "Input 1 shape:    (32, 3, 256, 256)\n",
      "Input 2 shape:            (3, 1, 1)\n",
      "Output shape:     (32, 3, 256, 256)\n",
      "\n"
     ]
    }
   ],
   "source": [
    "print('Scaling the channels of a batch of 32 pytorch RGB images')\n",
    "test_shapes((32, 3, 256, 256), scale.shape)\n",
    "\n",
    "print('Scaling the channels of a batch of 32 pytorch RGB images')\n",
    "test_shapes((32, 3, 256, 256), scale[:, None, None].shape)\n"
   ]
  },
  {
   "cell_type": "markdown",
   "id": "1e1d528d",
   "metadata": {},
   "source": [
    "### Other examples from documentation"
   ]
  },
  {
   "cell_type": "code",
   "execution_count": 15,
   "id": "e56cdd3d",
   "metadata": {},
   "outputs": [
    {
     "name": "stdout",
     "output_type": "stream",
     "text": [
      "Input 1 shape:         (8, 1, 6, 1)\n",
      "Input 2 shape:            (5, 1, 3)\n",
      "Output shape:          (8, 5, 6, 3)\n",
      "\n",
      "Input 1 shape:               (5, 4)\n",
      "Input 2 shape:                 (1,)\n",
      "Output shape:                (5, 4)\n",
      "\n",
      "Input 1 shape:               (5, 4)\n",
      "Input 2 shape:                 (4,)\n",
      "Output shape:                (5, 4)\n",
      "\n"
     ]
    }
   ],
   "source": [
    "test_shapes((8,1,6,1), (5,1,3))\n",
    "test_shapes((5,4), (1,))\n",
    "test_shapes((5,4), (4,))"
   ]
  },
  {
   "cell_type": "code",
   "execution_count": 17,
   "id": "fd315267",
   "metadata": {},
   "outputs": [
    {
     "name": "stdout",
     "output_type": "stream",
     "text": [
      "Input 1 shape:           (15, 3, 5)\n",
      "Input 2 shape:           (15, 1, 5)\n",
      "Output shape:            (15, 3, 5)\n",
      "\n",
      "Input 1 shape:           (15, 3, 5)\n",
      "Input 2 shape:               (3, 5)\n",
      "Output shape:            (15, 3, 5)\n",
      "\n",
      "Input 1 shape:           (15, 3, 5)\n",
      "Input 2 shape:               (3, 1)\n",
      "Output shape:            (15, 3, 5)\n",
      "\n"
     ]
    }
   ],
   "source": [
    "test_shapes((15,3,5), (15,1,5))\n",
    "test_shapes((15,3,5), (3,5))\n",
    "test_shapes((15,3,5), (3,1))"
   ]
  },
  {
   "cell_type": "code",
   "execution_count": 19,
   "id": "23f81641",
   "metadata": {},
   "outputs": [
    {
     "name": "stdout",
     "output_type": "stream",
     "text": [
      "Input 1 shape:                 (3,)\n",
      "Input 2 shape:                 (4,)\n",
      "Output shape:  Invalid input shapes\n",
      "\n",
      "Input 1 shape:               (2, 1)\n",
      "Input 2 shape:            (8, 4, 3)\n",
      "Output shape:  Invalid input shapes\n",
      "\n"
     ]
    }
   ],
   "source": [
    "test_shapes((3,), (4,))\n",
    "test_shapes((2,1), (8,4,3))"
   ]
  },
  {
   "cell_type": "code",
   "execution_count": 27,
   "id": "8b4ef4d4",
   "metadata": {},
   "outputs": [
    {
     "name": "stdout",
     "output_type": "stream",
     "text": [
      "Input 1 shape:          (1, 256, 1)\n",
      "Input 2 shape:        (256, 1, 256)\n",
      "Output shape:       (256, 256, 256)\n",
      "\n"
     ]
    }
   ],
   "source": [
    "test_shapes((1,256,1), (256,1,256))"
   ]
  },
  {
   "cell_type": "code",
   "execution_count": null,
   "id": "8a83bc4d",
   "metadata": {},
   "outputs": [],
   "source": []
  }
 ],
 "metadata": {
  "kernelspec": {
   "display_name": "Python 3 (ipykernel)",
   "language": "python",
   "name": "python3"
  },
  "language_info": {
   "codemirror_mode": {
    "name": "ipython",
    "version": 3
   },
   "file_extension": ".py",
   "mimetype": "text/x-python",
   "name": "python",
   "nbconvert_exporter": "python",
   "pygments_lexer": "ipython3",
   "version": "3.12.4"
  }
 },
 "nbformat": 4,
 "nbformat_minor": 5
}
