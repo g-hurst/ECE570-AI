{
 "cells": [
  {
   "cell_type": "code",
   "execution_count": 2,
   "id": "540b1967-eea5-475c-ab25-4033d51550b8",
   "metadata": {},
   "outputs": [
    {
     "data": {
      "text/plain": [
       "np.float64(27.0)"
      ]
     },
     "execution_count": 2,
     "metadata": {},
     "output_type": "execute_result"
    }
   ],
   "source": [
    "import numpy as np\n",
    "\n",
    "x = np.array([1,2,3])\n",
    "y = np.array([4,5,6])\n",
    "\n",
    "norm = np.linalg.norm(x-y) ** 2\n",
    "\n",
    "norm"
   ]
  },
  {
   "cell_type": "code",
   "execution_count": 4,
   "id": "a519ba4f-553d-4a6a-b792-26a181724e7f",
   "metadata": {},
   "outputs": [
    {
     "data": {
      "text/plain": [
       "np.int64(-27)"
      ]
     },
     "execution_count": 4,
     "metadata": {},
     "output_type": "execute_result"
    }
   ],
   "source": [
    "(x.T @ y) - (x.T @ x) - (y.T @ y) + (x.T @ y)"
   ]
  },
  {
   "cell_type": "code",
   "execution_count": 5,
   "id": "8409f956-414e-4aca-9b8c-cba0dd9d49f5",
   "metadata": {},
   "outputs": [
    {
     "data": {
      "text/plain": [
       "np.int64(27)"
      ]
     },
     "execution_count": 5,
     "metadata": {},
     "output_type": "execute_result"
    }
   ],
   "source": [
    "(x.T @ x) - 2 * (x.T @ y) + (y.T @ y)"
   ]
  },
  {
   "cell_type": "code",
   "execution_count": 6,
   "id": "af38ddf3-1f53-46b8-afdb-9c6974544523",
   "metadata": {},
   "outputs": [
    {
     "data": {
      "text/plain": [
       "np.float64(91.00000000000001)"
      ]
     },
     "execution_count": 6,
     "metadata": {},
     "output_type": "execute_result"
    }
   ],
   "source": [
    "np.linalg.norm(x)**2 + np.linalg.norm(y)**2"
   ]
  },
  {
   "cell_type": "code",
   "execution_count": 7,
   "id": "87dc64bb-6ca5-4a3e-a861-7a9c1af29bf3",
   "metadata": {},
   "outputs": [
    {
     "data": {
      "text/plain": [
       "np.float64(27.000000000000014)"
      ]
     },
     "execution_count": 7,
     "metadata": {},
     "output_type": "execute_result"
    }
   ],
   "source": [
    "np.linalg.norm(x)**2 + np.linalg.norm(y)**2 - 2 * (y.T @ x)"
   ]
  },
  {
   "cell_type": "code",
   "execution_count": 8,
   "id": "595ede26-72ae-43cb-80f6-498664cf1550",
   "metadata": {},
   "outputs": [
    {
     "name": "stdout",
     "output_type": "stream",
     "text": [
      "z = [[11.]]\n"
     ]
    }
   ],
   "source": [
    "import numpy as np\n",
    "\n",
    "def argmin_zw(x, w):\n",
    "  \"\"\"\n",
    "  Finds the value of z that minimizes ||x - zw||^2.\n",
    "\n",
    "  Args:\n",
    "    x: A numpy array of shape (n, 1).\n",
    "    w: A numpy array of shape (n, 1).\n",
    "\n",
    "  Returns:\n",
    "    The value of z that minimizes ||x - zw||^2.\n",
    "  \"\"\"\n",
    "\n",
    "  # Calculate the dot product of x and w\n",
    "  dot_product = np.dot(x.T, w)\n",
    "\n",
    "  # Calculate the norm of w squared\n",
    "  norm_w_squared = np.linalg.norm(w)**2\n",
    "\n",
    "  # Calculate the value of z\n",
    "  z = dot_product / norm_w_squared\n",
    "\n",
    "  return z\n",
    "\n",
    "# Define the vectors x and w\n",
    "x = np.array([[10], [5]])\n",
    "w = np.array([[4/5], [3/5]])\n",
    "\n",
    "# Find the value of z that minimizes ||x - zw||^2\n",
    "z = argmin_zw(x, w)\n",
    "\n",
    "print(\"z =\", z)"
   ]
  },
  {
   "cell_type": "code",
   "execution_count": null,
   "id": "cad58b9e-857d-4fe9-8a72-e85d29953e35",
   "metadata": {},
   "outputs": [],
   "source": []
  }
 ],
 "metadata": {
  "kernelspec": {
   "display_name": "Python 3 (ipykernel)",
   "language": "python",
   "name": "python3"
  },
  "language_info": {
   "codemirror_mode": {
    "name": "ipython",
    "version": 3
   },
   "file_extension": ".py",
   "mimetype": "text/x-python",
   "name": "python",
   "nbconvert_exporter": "python",
   "pygments_lexer": "ipython3",
   "version": "3.9.19"
  }
 },
 "nbformat": 4,
 "nbformat_minor": 5
}
