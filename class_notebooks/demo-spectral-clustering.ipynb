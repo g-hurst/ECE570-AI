{
 "cells": [
  {
   "cell_type": "markdown",
   "metadata": {},
   "source": [
    "# This demo corresponds to the graph in lecture notes"
   ]
  },
  {
   "cell_type": "code",
   "execution_count": 27,
   "metadata": {},
   "outputs": [
    {
     "name": "stdout",
     "output_type": "stream",
     "text": [
      "A\n",
      "[[0 1 0 1 1 1 1 0 0 0 0 0 0 0]\n",
      " [1 0 1 0 0 0 1 0 0 0 0 0 0 0]\n",
      " [0 1 0 1 0 0 0 0 0 0 0 0 0 0]\n",
      " [1 0 1 0 1 0 0 0 0 0 0 0 0 0]\n",
      " [1 0 0 1 0 1 0 0 0 0 0 0 0 0]\n",
      " [1 0 0 0 1 0 1 0 0 0 0 0 0 0]\n",
      " [1 1 0 0 0 1 0 1 1 0 0 0 0 0]\n",
      " [0 0 0 0 0 0 1 0 1 0 1 0 0 0]\n",
      " [0 0 0 0 0 0 1 1 0 1 1 0 0 0]\n",
      " [0 0 0 0 0 0 0 0 1 0 0 1 0 0]\n",
      " [0 0 0 0 0 0 0 1 1 0 0 1 1 0]\n",
      " [0 0 0 0 0 0 0 0 0 1 1 0 1 1]\n",
      " [0 0 0 0 0 0 0 0 0 0 1 1 0 1]\n",
      " [0 0 0 0 0 0 0 0 0 0 0 1 1 0]]\n",
      "D\n",
      "[[5 0 0 0 0 0 0 0 0 0 0 0 0 0]\n",
      " [0 3 0 0 0 0 0 0 0 0 0 0 0 0]\n",
      " [0 0 2 0 0 0 0 0 0 0 0 0 0 0]\n",
      " [0 0 0 3 0 0 0 0 0 0 0 0 0 0]\n",
      " [0 0 0 0 3 0 0 0 0 0 0 0 0 0]\n",
      " [0 0 0 0 0 3 0 0 0 0 0 0 0 0]\n",
      " [0 0 0 0 0 0 5 0 0 0 0 0 0 0]\n",
      " [0 0 0 0 0 0 0 3 0 0 0 0 0 0]\n",
      " [0 0 0 0 0 0 0 0 4 0 0 0 0 0]\n",
      " [0 0 0 0 0 0 0 0 0 2 0 0 0 0]\n",
      " [0 0 0 0 0 0 0 0 0 0 4 0 0 0]\n",
      " [0 0 0 0 0 0 0 0 0 0 0 4 0 0]\n",
      " [0 0 0 0 0 0 0 0 0 0 0 0 3 0]\n",
      " [0 0 0 0 0 0 0 0 0 0 0 0 0 2]]\n",
      "L\n",
      "[[ 5 -1  0 -1 -1 -1 -1  0  0  0  0  0  0  0]\n",
      " [-1  3 -1  0  0  0 -1  0  0  0  0  0  0  0]\n",
      " [ 0 -1  2 -1  0  0  0  0  0  0  0  0  0  0]\n",
      " [-1  0 -1  3 -1  0  0  0  0  0  0  0  0  0]\n",
      " [-1  0  0 -1  3 -1  0  0  0  0  0  0  0  0]\n",
      " [-1  0  0  0 -1  3 -1  0  0  0  0  0  0  0]\n",
      " [-1 -1  0  0  0 -1  5 -1 -1  0  0  0  0  0]\n",
      " [ 0  0  0  0  0  0 -1  3 -1  0 -1  0  0  0]\n",
      " [ 0  0  0  0  0  0 -1 -1  4 -1 -1  0  0  0]\n",
      " [ 0  0  0  0  0  0  0  0 -1  2  0 -1  0  0]\n",
      " [ 0  0  0  0  0  0  0 -1 -1  0  4 -1 -1  0]\n",
      " [ 0  0  0  0  0  0  0  0  0 -1 -1  4 -1 -1]\n",
      " [ 0  0  0  0  0  0  0  0  0  0 -1 -1  3 -1]\n",
      " [ 0  0  0  0  0  0  0  0  0  0  0 -1 -1  2]]\n"
     ]
    }
   ],
   "source": [
    "import numpy as np\n",
    "# Adjacency matrix A\n",
    "A = np.array([\n",
    "  [0, 1, 0, 1, 1, 1, 1, 0, 0, 0, 0, 0, 0, 0],\n",
    "  [1, 0, 1, 0, 0, 0, 1, 0, 0, 0, 0, 0, 0, 0],\n",
    "  [0, 1, 0, 1, 0, 0, 0, 0, 0, 0, 0, 0, 0, 0],\n",
    "  [1, 0, 1, 0, 1, 0, 0, 0, 0, 0, 0, 0, 0, 0],\n",
    "  [1, 0, 0, 1, 0, 1, 0, 0, 0, 0, 0, 0, 0, 0],\n",
    "  [1, 0, 0, 0, 1, 0, 1, 0, 0, 0, 0, 0, 0, 0],\n",
    "  [1, 1, 0, 0, 0, 1, 0, 1, 1, 0, 0, 0, 0, 0],\n",
    "  [0, 0, 0, 0, 0, 0, 1, 0, 1, 0, 1, 0, 0, 0],\n",
    "  [0, 0, 0, 0, 0, 0, 1, 1, 0, 1, 1, 0, 0, 0],\n",
    "  [0, 0, 0, 0, 0, 0, 0, 0, 1, 0, 0, 1, 0, 0],\n",
    "  [0, 0, 0, 0, 0, 0, 0, 1, 1, 0, 0, 1, 1, 0],\n",
    "  [0, 0, 0, 0, 0, 0, 0, 0, 0, 1, 1, 0, 1, 1],\n",
    "  [0, 0, 0, 0, 0, 0, 0, 0, 0, 0, 1, 1, 0, 1],\n",
    "  [0, 0, 0, 0, 0, 0, 0, 0, 0, 0, 0, 1, 1, 0]])\n",
    "print('A')\n",
    "print(A)\n",
    "# Degree matrix D\n",
    "D = np.diag(np.sum(A, axis=0))\n",
    "print('D')\n",
    "print(D)\n",
    "# Graph Laplacian L\n",
    "L = D - A\n",
    "print('L')\n",
    "print(L)"
   ]
  },
  {
   "cell_type": "code",
   "execution_count": 28,
   "metadata": {},
   "outputs": [
    {
     "name": "stdout",
     "output_type": "stream",
     "text": [
      "eigenvalues (smallest to largest): [-6.38378239e-16  2.47762822e-01  1.19601989e+00  1.53651657e+00\n",
      "  1.88387046e+00  2.51848980e+00  3.19533155e+00  3.56732977e+00\n",
      "  4.31728338e+00  4.61193180e+00  4.70036291e+00  5.53702515e+00\n",
      "  6.05682895e+00  6.63124694e+00]\n"
     ]
    }
   ],
   "source": [
    "vals, vecs = np.linalg.eig(L)\n",
    "\n",
    "# sorting based on the eigenvalues\n",
    "vecs = vecs[:,np.argsort(vals)].real\n",
    "vals = vals[np.argsort(vals)].real\n",
    "\n",
    "# number of zero eigenvalues represents number of connected components in the graph\n",
    "print(\"eigenvalues (smallest to largest):\", vals)"
   ]
  },
  {
   "cell_type": "code",
   "execution_count": 29,
   "metadata": {},
   "outputs": [
    {
     "name": "stdout",
     "output_type": "stream",
     "text": [
      "[[ 0.25237814 -0.00240574]\n",
      " [ 0.24754145  0.04461365]\n",
      " [ 0.32066058  0.3038903 ]\n",
      " [ 0.31433194  0.19970811]\n",
      " [ 0.29207732  0.05878489]\n",
      " [ 0.23715599 -0.09125559]\n",
      " [ 0.10825407 -0.22100243]\n",
      " [-0.09387817 -0.40826547]\n",
      " [-0.12874839 -0.3833757 ]\n",
      " [-0.25958973 -0.3135853 ]\n",
      " [-0.23788066 -0.13212464]\n",
      " [-0.32611439  0.13125936]\n",
      " [-0.34384372  0.28990694]\n",
      " [-0.38234442  0.52385164]]\n"
     ]
    },
    {
     "data": {
      "image/png": "[encoded data removed]",
      "text/plain": [
       "<Figure size 640x480 with 1 Axes>"
      ]
     },
     "metadata": {},
     "output_type": "display_data"
    }
   ],
   "source": [
    "# Create a new representation of nodes based on the lowest eigenvectors (skipping 0)\n",
    "new_node_rep = vecs[:, 1:3]\n",
    "print(new_node_rep)\n",
    "\n",
    "import matplotlib.pyplot as plt\n",
    "plt.scatter(*(new_node_rep).T)\n",
    "for i, (x, y) in enumerate(zip(*new_node_rep.T)):\n",
    "    plt.annotate(f'{i}', (x, y), textcoords=\"offset points\", \n",
    "                 xytext=(5, 5), ha='center')"
   ]
  },
  {
   "cell_type": "code",
   "execution_count": 30,
   "metadata": {},
   "outputs": [
    {
     "name": "stdout",
     "output_type": "stream",
     "text": [
      "Clusters: [1 1 1 1 1 1 1 0 0 0 0 0 0 0]\n"
     ]
    }
   ],
   "source": [
    "from sklearn.cluster import KMeans\n",
    "# number of clusters\n",
    "k = 2\n",
    "kmeans = KMeans(n_clusters=k, random_state=0)\n",
    "kmeans.fit(vecs[:,1:k])\n",
    "colors = kmeans.labels_\n",
    "\n",
    "print(\"Clusters:\", colors)"
   ]
  }
 ],
 "metadata": {
  "kernelspec": {
   "display_name": "Python 3 (ipykernel)",
   "language": "python",
   "name": "python3"
  },
  "language_info": {
   "codemirror_mode": {
    "name": "ipython",
    "version": 3
   },
   "file_extension": ".py",
   "mimetype": "text/x-python",
   "name": "python",
   "nbconvert_exporter": "python",
   "pygments_lexer": "ipython3",
   "version": "3.11.4"
  }
 },
 "nbformat": 4,
 "nbformat_minor": 4
}
