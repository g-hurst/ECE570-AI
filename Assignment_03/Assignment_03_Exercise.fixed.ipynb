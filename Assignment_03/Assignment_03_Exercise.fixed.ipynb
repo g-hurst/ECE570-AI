{
  "cells": [
    {
      "cell_type": "markdown",
      "metadata": {
        "id": "zmwWs4S9cRIn"
      },
      "source": [
        "# ECE 57000 Assignment 3 Exercise\n",
        "\n",
        "Your Name: Garrett Hurst"
      ]
    },
    {
      "cell_type": "markdown",
      "metadata": {},
      "source": [
        "Prepare the pacakge we will use."
      ]
    },
    {
      "cell_type": "code",
      "execution_count": 1,
      "metadata": {},
      "outputs": [],
      "source": [
        "import time\n",
        "from typing import List, Dict\n",
        "\n",
        "import torch\n",
        "import torch.nn as nn\n",
        "import torch.optim as optim\n",
        "import torch.nn.functional as F\n",
        "import torchvision\n",
        "import torchvision.models as models\n",
        "import torchvision.transforms as transforms\n",
        "\n",
        "import matplotlib.pyplot as plt"
      ]
    },
    {
      "cell_type": "markdown",
      "metadata": {
        "id": "Vmlsa88cqmib"
      },
      "source": [
        "## Exercise 0: Train your model on GPU (0 points)"
      ]
    },
    {
      "cell_type": "markdown",
      "metadata": {
        "id": "WfirXJR3qvB0"
      },
      "source": [
        "Some tasks in this assignment can take a long time if you run it on the CPU. For example, based on our solution of Exercise 3 Task 4 (Transfer Learning: finetuning of a pretrained model (resnet18)), it will take roughly 2 hours to train the model end-to-end (complete model and not only the last fc layer) for 1 epoch on CPU. Hence, we highly recommend you try to train your model on GPU.\n",
        "\n",
        "To do so, first you need to enable GPU on Colab (this will restart the runtime). Click `Runtime`-> `Change runtime type` and select the `Hardware accelerator` there.  You can then run the following code to see if the GPU is correctly initialized and available.\n",
        "\n",
        "**Note**: If you would like to avoid GPU overages on Colab, we would suggest writing and debugging your code before switching on the GPU runtime. Otherwise, the time you spent debugging code will likely count against your GPU usage. Once you have the code running, you can switch on the GPU runtime and train the model much faster."
      ]
    },
    {
      "cell_type": "code",
      "execution_count": 2,
      "metadata": {
        "colab": {
          "base_uri": "https://localhost:8080/"
        },
        "id": "TT7wKvilvBvX",
        "outputId": "227012f8-ae8f-416a-c7b3-8c64b9ea5d7b"
      },
      "outputs": [
        {
          "name": "stdout",
          "output_type": "stream",
          "text": [
            "Can I can use GPU now? -- True\n"
          ]
        }
      ],
      "source": [
        "print(f'Can I can use GPU now? -- {torch.cuda.is_available()}')"
      ]
    },
    {
      "cell_type": "markdown",
      "metadata": {
        "id": "hnPPDoA7vQWp"
      },
      "source": [
        "### You must manually move your model and data to the GPU (and sometimes back to the cpu)\n",
        "After setting the GPU up on colab, then you should put your **model** and **data** to GPU. We give a simple example below. You can use `to` function for this task. See [torch.Tensor.to](https://pytorch.org/docs/stable/generated/torch.Tensor.to.html) to move a tensor to the GPU (probably your mini-batch of data in each iteration) or [torch.nn.Module.to](https://pytorch.org/docs/stable/generated/torch.nn.Module.html#torch.nn.Module.to) to move your NN model to GPU (assuming you create subclass [torch.nn.Module](https://pytorch.org/docs/stable/generated/torch.nn.Module.html)). Note that `to()` of tensor returns a NEW tensor while `to` of a NN model will apply this in-place. To be safe, the best semantics are `obj = obj.to(device)`. For printing, you will need to move a tensor back to the CPU via the `cpu()` function.\n",
        "\n",
        "Once the model and input data are on the GPU, everything else can be done the same.  This is the beauty of PyTorch GPU acceleration.  None of the other code needs to be altered.\n",
        "\n",
        "To summarize, you need to 1) enable GPU acceleration in Colab, 2) put the model on the GPU, and 3) put the input data (i.e., the batch of samples) onto the GPU using `to()` after it is loaded by the data loaders (usually you only put one batch of data on the GPU at a time)."
      ]
    },
    {
      "cell_type": "code",
      "execution_count": 3,
      "metadata": {
        "colab": {
          "base_uri": "https://localhost:8080/"
        },
        "id": "lUdR8v7Kt-6S",
        "outputId": "1fb693ec-5e2c-423f-8f11-39308d96b9bd"
      },
      "outputs": [
        {
          "name": "stdout",
          "output_type": "stream",
          "text": [
            "input is on cpu\n",
            "model parameters are on [device(type='cpu'), device(type='cpu'), device(type='cpu'), device(type='cpu')]\n",
            "output is on cpu\n",
            "input is on cuda:0\n",
            "model parameters are on [device(type='cuda', index=0), device(type='cuda', index=0), device(type='cuda', index=0), device(type='cuda', index=0)]\n",
            "output is on cuda:0\n"
          ]
        }
      ],
      "source": [
        "rand_tensor = torch.rand(5,2)\n",
        "simple_model = nn.Sequential(nn.Linear(2,10), nn.ReLU(), nn.Linear(10,1))\n",
        "print(f'input is on {rand_tensor.device}')\n",
        "print(f'model parameters are on {[param.device for param in simple_model.parameters()]}')\n",
        "print(f'output is on {simple_model(rand_tensor).device}')\n",
        "\n",
        "# device = torch.device('cuda')\n",
        "\n",
        "device = torch.device('cuda' if torch.cuda.is_available() else 'cpu')\n",
        "# ----------- <Your code> ---------------\n",
        "# Move rand_tensor and model onto the GPU device\n",
        "rand_tensor = rand_tensor.to(device)\n",
        "simple_model = simple_model.to(device)\n",
        "# --------- <End your code> -------------\n",
        "print(f'input is on {rand_tensor.device}')\n",
        "print(f'model parameters are on {[param.device for param in simple_model.parameters()]}')\n",
        "print(f'output is on {simple_model(rand_tensor).device}')"
      ]
    },
    {
      "cell_type": "markdown",
      "metadata": {
        "id": "Zz2T0QYYpwVR"
      },
      "source": [
        "## Exercise 1: Why use a CNN rather than only fully connected layers? (40 points)\n",
        "\n",
        "In this exercise, you will build two models for the **MNIST** dataset: one uses only fully connected layers and another uses a standard CNN layout (convolution layers everywhere except the last layer is fully connected layer). Note, you will need to use cross entropy loss as your objective function. The two models should be built with roughly the same accuracy performance, your task is to compare the number of network parameters (a huge number of parameters can affect training/testing time, memory requirements, overfitting, etc.)."
      ]
    },
    {
      "cell_type": "markdown",
      "metadata": {},
      "source": [
        "### Task 1: Prepare train and test function\n",
        "\n",
        "We will create our train and test procedure in these two functions. The train function should apply one epoch of training. The functions inputs should take everything we need for training and testing and return some logs.\n",
        "\n",
        "#### Arguments requirement:\n",
        "* For the `train` function, it takes the `model`, `loss_fn`, `optimizer`, `train_loader `, and `epoch` as arguments.\n",
        "    * `model`: the classifier, or deep neural network, should be an instance of `nn.Module`.\n",
        "    * `loss_fn`: the loss function instance. For example, `nn.CrossEntropy()`, or `nn.L1Loss()`, etc.\n",
        "    * `optimizer`: should be an instance of `torch.optim.Optimizer`. For example, it could be `optim.SGD()` or `optim.Adam()`, etc.\n",
        "    * `train_loader `: should be an instance of `torch.utils.data.DataLoader`.\n",
        "    * `epoch`: the current number of epoch. Only used for log printing.(default: 1.) \n",
        "\n",
        "* For the `test` function, it takes all the inputs above except for the optimizer (and it takes a test loader instead of a train loader).\n",
        "\n",
        "#### Log requirement:\n",
        "Here are some further requirements:\n",
        "* In the `train` function, print the log 8-10 times per epoch. The print statement should be: \n",
        "```python\n",
        "print(f'Epoch {epoch}: [{batch_idx*len(images)}/{len(train_loader .dataset)}] Loss: {loss.item():.3f}')\n",
        "```\n",
        "* In the `test` function, print the log after the testing. The print statement is: \n",
        "```python\n",
        "print(f\"Test result on epoch {epoch}: total sample: {total_num}, Avg loss: {test_stat['loss']:.3f}, Acc: {100*test_stat['accuracy']:.3f}%\")\n",
        "```\n",
        "\n",
        "#### Return requirement \n",
        "* The `train` function should return a list, which the element is the loss per batch, i.e., one loss value for every batch.\n",
        "* The `test` function should return a dictionary with three keys: \"loss\", \"accuracy\", and \"prediction\". The values are the average loss of all the test_loader , average accuracy of all the test dataset, and the prediction of all test dataset.\n",
        "\n",
        "#### Other requirement:\n",
        "* In the `train` function, the model should be updated in-place, i.e., do not copy the model inside `train` function."
      ]
    },
    {
      "cell_type": "code",
      "execution_count": 4,
      "metadata": {},
      "outputs": [],
      "source": [
        "def train(model: nn.Module, \n",
        "          loss_fn: nn.modules.loss._Loss, \n",
        "          optimizer: torch.optim.Optimizer, \n",
        "          train_loader : torch.utils.data.DataLoader, \n",
        "          epoch: int=0)-> List:\n",
        "    # ----------- <Your code> ---------------\n",
        "    model.train() \n",
        "    train_loss = []\n",
        "    \n",
        "    for batch_idx, (images, labels) in enumerate(train_loader ):\n",
        "        images = images.to(next(model.parameters()).device)\n",
        "        labels = labels.to(next(model.parameters()).device)\n",
        "        \n",
        "        outputs = model(images)\n",
        "        loss = loss_fn(outputs, labels)\n",
        "        optimizer.zero_grad()\n",
        "        loss.backward()\n",
        "        optimizer.step()\n",
        "\n",
        "        train_loss.append(loss.item())\n",
        "        if batch_idx % (len(train_loader ) // 10) == 0:\n",
        "            print(f'Epoch {epoch}: [{batch_idx * len(images)}/{len(train_loader .dataset)}] Loss: {loss.item():.3f}')\n",
        "\n",
        "    # ----------- <End Your code> ---------------\n",
        "    assert len(train_loss) == len(train_loader )\n",
        "    return train_loss\n",
        "\n",
        "def test(model: nn.Module, \n",
        "         loss_fn: nn.modules.loss._Loss, \n",
        "         test_loader : torch.utils.data.DataLoader, \n",
        "         epoch: int=0)-> Dict:\n",
        "    # ----------- <Your code> ---------------\n",
        "    model.eval() \n",
        "    test_loss   = 0\n",
        "    correct     = 0\n",
        "    total_num   = len(test_loader .dataset)\n",
        "    predictions = []\n",
        "\n",
        "    with torch.no_grad():\n",
        "        for images, labels in test_loader :\n",
        "            images = images.to(next(model.parameters()).device)\n",
        "            labels = labels.to(next(model.parameters()).device)\n",
        "\n",
        "            outputs = model(images)\n",
        "            test_loss += loss_fn(outputs, labels).item()  \n",
        "            _, preds = outputs.max(1)\n",
        "            correct += (preds == labels).sum().item()\n",
        "            predictions.append(preds.cpu())\n",
        "\n",
        "    avg_loss    = test_loss / len(test_loader )\n",
        "    accuracy    = correct / total_num\n",
        "    predictions = torch.cat(predictions, dim=0)\n",
        "    print(f\"Test result on epoch {epoch}: total sample: {total_num}, Avg loss: {avg_loss:.3f}, Acc: {100 * accuracy:.3f}%\")\n",
        "\n",
        "    test_stat = {\n",
        "        \"loss\": avg_loss,\n",
        "        \"accuracy\": accuracy,\n",
        "        \"prediction\": predictions\n",
        "    }\n",
        "\n",
        "    # ----------- <Your code> ---------------\n",
        "    # dictionary should include loss, accuracy and prediction\n",
        "    assert \"loss\" and \"accuracy\" and \"prediction\" in test_stat.keys()\n",
        "    # \"prediction\" value should be a 1D tensor\n",
        "    assert len(test_stat[\"prediction\"]) == len(test_loader .dataset)\n",
        "    assert isinstance(test_stat[\"prediction\"], torch.Tensor)\n",
        "    return test_stat\n"
      ]
    },
    {
      "cell_type": "markdown",
      "metadata": {
        "id": "DFKqew7r-E-q"
      },
      "source": [
        "### Task 2: Following the structure used in the instructions, you should create\n",
        "\n",
        "*   One network named `OurFC` which should consist with only fully connected layers\n",
        "\n",
        "  *   You should decide how many layers and how many hidden dimensions you want in your network \n",
        "  *   Your final accuracy on the test dataset should lie roughly around 97% ($\\pm$2%)\n",
        "  *   There is no need to make the neural network unnecessarily complex, your total training time should no longer than 3 mins\n",
        "\n",
        "*   Another network named `OurCNN` which applys a standard CNN structure\n",
        "  *   Again, you should decide how many layers and how many channels you want for each layer.\n",
        "  *   Your final accuracy on the test dataset should lie roughly around 97% ($\\pm$2%)\n",
        "  *   A standard CNN structure can be composed as **[Conv2d, MaxPooling, ReLU] x num_conv_layers + FC x num_fc_layers**\n",
        "\n",
        "* Train and test your network on MNIST data as in the instructions. \n",
        "* Notice You can always use the `train` and `test` function you write throughout this assignment.\n",
        "* The code below will also print out the number of parameters for both neural networks to allow comparison.\n",
        "* (You can use multiple cells if helpful but make sure to run all of them to receive credit.)\n"
      ]
    },
    {
      "cell_type": "code",
      "execution_count": 5,
      "metadata": {
        "id": "8XfvgD-jt-Ye"
      },
      "outputs": [
        {
          "name": "stdout",
          "output_type": "stream",
          "text": [
            "data loaded: \n",
            "TRAIN feature shape: torch.Size([128, 1, 28, 28])\n",
            "TRAIN label   shape: torch.Size([128])\n",
            "TEST  feature shape: torch.Size([128, 1, 28, 28])\n",
            "TEST  label   shape: torch.Size([128])\n"
          ]
        }
      ],
      "source": [
        "# Download MNIST and transformation\n",
        "# ----------- <Your code> ---------------\n",
        "import os\n",
        "data_dir = './data'\n",
        "if not os.path.exists(data_dir):\n",
        "    os.mkdir(data_dir)\n",
        "\n",
        "transform = torchvision.transforms.Compose([transforms.ToTensor()])\n",
        "mnist_train = torchvision.datasets.MNIST(root=data_dir, download=True, train=True, transform=transform)\n",
        "mnist_test  = torchvision.datasets.MNIST(root=data_dir, download=True, train=False, transform=transform)\n",
        "\n",
        "batch_sz = 128\n",
        "train_loader  = torch.utils.data.DataLoader(dataset=mnist_train, batch_size=batch_sz, shuffle=True)\n",
        "test_loader   = torch.utils.data.DataLoader(dataset=mnist_test,  batch_size=batch_sz, shuffle=False)\n",
        "\n",
        "tr_features, tr_labels = next(iter(train_loader ))\n",
        "ts_features, ts_labels = next(iter(test_loader ))\n",
        "print(f'data loaded: ')\n",
        "print(f'TRAIN feature shape: {tr_features.shape}')\n",
        "print(f'TRAIN label   shape: {tr_labels.shape}')\n",
        "print(f'TEST  feature shape: {ts_features.shape}')\n",
        "print(f'TEST  label   shape: {ts_labels.shape}')\n",
        "# ----------- <End Your code> -------------"
      ]
    },
    {
      "cell_type": "code",
      "execution_count": 6,
      "metadata": {
        "id": "ccYESqrsxNXA"
      },
      "outputs": [],
      "source": [
        "# Build OurFC class and OurCNN class.\n",
        "# ----------- <Your code> ---------------\n",
        "class OurFC(nn.Module):\n",
        "    def __init__(self, d_in=28*28, d_out=10, *d_hN):\n",
        "        super().__init__()\n",
        "        if not all(isinstance(d_hi, int) for d_hi in d_hN):\n",
        "            raise TypeError('Oi - make sure all extra hidden layer dimentions are integers')\n",
        "        if len(d_hN) == 0:\n",
        "            d_hN = (1028, 256)\n",
        "        \n",
        "        d_hN = list(d_hN) + [d_out,]\n",
        "        d_prev = d_hN.pop(0)\n",
        "        self.layers = nn.ModuleList([nn.Linear(d_in, d_prev),])\n",
        "        for d_hi in d_hN:\n",
        "            self.layers.append(nn.Linear(d_prev, d_hi))\n",
        "            d_prev = d_hi\n",
        "\n",
        "    def forward(self, x):\n",
        "        x = torch.flatten(x, start_dim=1)\n",
        "        # compute all hidden layer vals \n",
        "        if len(self.layers) > 1:\n",
        "            for layer in self.layers[:-1]:\n",
        "                x = F.relu(layer(x))\n",
        "        # compute last layer \n",
        "        return F.log_softmax(self.layers[-1](x))    \n",
        "\n",
        "class OurCNN(nn.Module):\n",
        "    def __init__(self, in_w=28, in_h=28, in_c=1, num_classes=10):\n",
        "        super().__init__() \n",
        "        conv1_sz = 16\n",
        "        conv2_sz = 32\n",
        "        pool_k   = 2\n",
        "        self.conv1 = nn.Conv2d(in_c, conv1_sz, kernel_size=3, stride=1, padding=1)\n",
        "        self.conv2 = nn.Conv2d(conv1_sz, conv2_sz, kernel_size=3, stride=1, padding=1)\n",
        "        self.pool  = nn.MaxPool2d(kernel_size=pool_k, stride=pool_k, padding=0)\n",
        "        self.fc1   = nn.Linear(conv2_sz * in_w * in_h // ((2*pool_k) ** 2), 32)\n",
        "        self.fc2   = nn.Linear(32, num_classes)\n",
        "    \n",
        "    def forward(self, x):\n",
        "        x = self.pool(F.relu(self.conv1(x)))\n",
        "        x = self.pool(F.relu(self.conv2(x)))\n",
        "        x = torch.flatten(x, start_dim=1)\n",
        "        x = F.relu(self.fc1(x))\n",
        "        x = self.fc2(x)\n",
        "        return F.log_softmax(x)\n",
        "# ----------- <End Your code> -------------"
      ]
    },
    {
      "cell_type": "code",
      "execution_count": 7,
      "metadata": {
        "colab": {
          "base_uri": "https://localhost:8080/"
        },
        "id": "TxhAyKGCx_iC",
        "outputId": "6cff1c13-f3fd-4042-9146-fe6e34ffb27e"
      },
      "outputs": [
        {
          "name": "stderr",
          "output_type": "stream",
          "text": [
            "C:\\Users\\hurst\\AppData\\Local\\Temp\\ipykernel_32404\\525692458.py:25: UserWarning: Implicit dimension choice for log_softmax has been deprecated. Change the call to include dim=X as an argument.\n",
            "  return F.log_softmax(self.layers[-1](x))\n"
          ]
        },
        {
          "name": "stdout",
          "output_type": "stream",
          "text": [
            "Epoch 1: [0/60000] Loss: 2.303\n",
            "Epoch 1: [5888/60000] Loss: 0.333\n",
            "Epoch 1: [11776/60000] Loss: 0.323\n",
            "Epoch 1: [17664/60000] Loss: 0.214\n",
            "Epoch 1: [23552/60000] Loss: 0.120\n",
            "Epoch 1: [29440/60000] Loss: 0.149\n",
            "Epoch 1: [35328/60000] Loss: 0.173\n",
            "Epoch 1: [41216/60000] Loss: 0.182\n",
            "Epoch 1: [47104/60000] Loss: 0.139\n",
            "Epoch 1: [52992/60000] Loss: 0.217\n",
            "Epoch 1: [58880/60000] Loss: 0.102\n",
            "Test result on epoch 1: total sample: 10000, Avg loss: 0.109, Acc: 96.600%\n",
            "Epoch 2: [0/60000] Loss: 0.094\n",
            "Epoch 2: [5888/60000] Loss: 0.135\n",
            "Epoch 2: [11776/60000] Loss: 0.047\n",
            "Epoch 2: [17664/60000] Loss: 0.045\n",
            "Epoch 2: [23552/60000] Loss: 0.087\n",
            "Epoch 2: [29440/60000] Loss: 0.090\n",
            "Epoch 2: [35328/60000] Loss: 0.057\n",
            "Epoch 2: [41216/60000] Loss: 0.025\n",
            "Epoch 2: [47104/60000] Loss: 0.216\n",
            "Epoch 2: [52992/60000] Loss: 0.088\n",
            "Epoch 2: [58880/60000] Loss: 0.042\n",
            "Test result on epoch 2: total sample: 10000, Avg loss: 0.084, Acc: 97.310%\n",
            "Epoch 3: [0/60000] Loss: 0.020\n",
            "Epoch 3: [5888/60000] Loss: 0.111\n",
            "Epoch 3: [11776/60000] Loss: 0.131\n",
            "Epoch 3: [17664/60000] Loss: 0.077\n",
            "Epoch 3: [23552/60000] Loss: 0.123\n",
            "Epoch 3: [29440/60000] Loss: 0.032\n",
            "Epoch 3: [35328/60000] Loss: 0.061\n",
            "Epoch 3: [41216/60000] Loss: 0.068\n",
            "Epoch 3: [47104/60000] Loss: 0.111\n",
            "Epoch 3: [52992/60000] Loss: 0.080\n",
            "Epoch 3: [58880/60000] Loss: 0.082\n",
            "Test result on epoch 3: total sample: 10000, Avg loss: 0.081, Acc: 97.450%\n",
            "Finished Training after 34.861406326293945 s \n"
          ]
        }
      ],
      "source": [
        "# Let's first train the FC model. Below are there common hyperparameters.\n",
        "criterion = nn.CrossEntropyLoss()\n",
        "\n",
        "start = time.time()\n",
        "max_epoch = 3\n",
        "# ----------- <Your code> ---------------\n",
        "learning_rate = 0.001\n",
        "num_epochs    = max_epoch\n",
        "\n",
        "model_fc = OurFC().to(device)\n",
        "optimizer_fc = optim.Adam(model_fc.parameters(), lr=learning_rate)\n",
        "\n",
        "for epoch in range(1, num_epochs + 1):\n",
        "    train_loss = train(model_fc, criterion, optimizer_fc, train_loader , epoch)\n",
        "    test_stat  = test(model_fc,  criterion, test_loader, epoch)\n",
        "\n",
        "# ----------- <End Your code> ---------------\n",
        "end = time.time()\n",
        "print(f'Finished Training after {end-start} s ')"
      ]
    },
    {
      "cell_type": "code",
      "execution_count": 8,
      "metadata": {
        "colab": {
          "base_uri": "https://localhost:8080/"
        },
        "id": "DX8q9Dtqylks",
        "outputId": "ab1d0667-22a8-4645-f622-73fa4dcaa1eb"
      },
      "outputs": [
        {
          "name": "stderr",
          "output_type": "stream",
          "text": [
            "C:\\Users\\hurst\\AppData\\Local\\Temp\\ipykernel_32404\\525692458.py:45: UserWarning: Implicit dimension choice for log_softmax has been deprecated. Change the call to include dim=X as an argument.\n",
            "  return F.log_softmax(x)\n"
          ]
        },
        {
          "name": "stdout",
          "output_type": "stream",
          "text": [
            "Epoch 1: [0/60000] Loss: 2.302\n",
            "Epoch 1: [5888/60000] Loss: 0.842\n",
            "Epoch 1: [11776/60000] Loss: 0.506\n",
            "Epoch 1: [17664/60000] Loss: 0.401\n",
            "Epoch 1: [23552/60000] Loss: 0.267\n",
            "Epoch 1: [29440/60000] Loss: 0.292\n",
            "Epoch 1: [35328/60000] Loss: 0.111\n",
            "Epoch 1: [41216/60000] Loss: 0.125\n",
            "Epoch 1: [47104/60000] Loss: 0.130\n",
            "Epoch 1: [52992/60000] Loss: 0.110\n",
            "Epoch 1: [58880/60000] Loss: 0.223\n",
            "Test result on epoch 1: total sample: 10000, Avg loss: 0.113, Acc: 96.420%\n",
            "Epoch 2: [0/60000] Loss: 0.127\n",
            "Epoch 2: [5888/60000] Loss: 0.202\n",
            "Epoch 2: [11776/60000] Loss: 0.167\n",
            "Epoch 2: [17664/60000] Loss: 0.115\n",
            "Epoch 2: [23552/60000] Loss: 0.082\n",
            "Epoch 2: [29440/60000] Loss: 0.116\n",
            "Epoch 2: [35328/60000] Loss: 0.026\n",
            "Epoch 2: [41216/60000] Loss: 0.161\n",
            "Epoch 2: [47104/60000] Loss: 0.047\n",
            "Epoch 2: [52992/60000] Loss: 0.087\n",
            "Epoch 2: [58880/60000] Loss: 0.048\n",
            "Test result on epoch 2: total sample: 10000, Avg loss: 0.062, Acc: 97.930%\n",
            "Epoch 3: [0/60000] Loss: 0.020\n",
            "Epoch 3: [5888/60000] Loss: 0.073\n",
            "Epoch 3: [11776/60000] Loss: 0.055\n",
            "Epoch 3: [17664/60000] Loss: 0.147\n",
            "Epoch 3: [23552/60000] Loss: 0.025\n",
            "Epoch 3: [29440/60000] Loss: 0.042\n",
            "Epoch 3: [35328/60000] Loss: 0.031\n",
            "Epoch 3: [41216/60000] Loss: 0.034\n",
            "Epoch 3: [47104/60000] Loss: 0.025\n",
            "Epoch 3: [52992/60000] Loss: 0.023\n",
            "Epoch 3: [58880/60000] Loss: 0.032\n",
            "Test result on epoch 3: total sample: 10000, Avg loss: 0.048, Acc: 98.400%\n",
            "Finished Training after 35.27738332748413 s \n"
          ]
        }
      ],
      "source": [
        "# Let's then train the OurCNN model.\n",
        "start = time.time()\n",
        "# ----------- <Your code> ---------------\n",
        "learning_rate = 0.001\n",
        "num_epochs    = 3\n",
        "\n",
        "model_cnn = OurCNN().to(device)\n",
        "optimizer_cnn = optim.Adam(model_cnn.parameters(), lr=learning_rate)\n",
        "\n",
        "for epoch in range(1, num_epochs + 1):\n",
        "    train_loss = train(model_cnn, criterion, optimizer_cnn, train_loader , epoch)\n",
        "    test_stat  = test(model_cnn,  criterion, test_loader, epoch)\n",
        "\n",
        "# ----------- <End Your code> ---------------\n",
        "end = time.time()\n",
        "print(f'Finished Training after {end-start} s ')"
      ]
    },
    {
      "cell_type": "code",
      "execution_count": 9,
      "metadata": {
        "colab": {
          "base_uri": "https://localhost:8080/"
        },
        "id": "FIVO5T4JgA_N",
        "outputId": "854b0efe-47d3-4446-de08-4fd9382c57e7"
      },
      "outputs": [
        {
          "name": "stdout",
          "output_type": "stream",
          "text": [
            "OurFC has a total of 1072974 parameters\n",
            "OurCNN has a total of 55338 parameters\n"
          ]
        }
      ],
      "source": [
        "ourfc = OurFC()\n",
        "total_params = sum(p.numel() for p in ourfc.parameters())\n",
        "print(f'OurFC has a total of {total_params} parameters')\n",
        "\n",
        "ourcnn = OurCNN()\n",
        "total_params = sum(p.numel() for p in ourcnn.parameters())\n",
        "print(f'OurCNN has a total of {total_params} parameters')"
      ]
    },
    {
      "cell_type": "markdown",
      "metadata": {
        "id": "v5oMKOrhmfpM"
      },
      "source": [
        "Questions (0 points, just for understanding): Which one has more parameters?  Which one is likely to have less computational cost when deployed? Which one took longer to train?"
      ]
    },
    {
      "cell_type": "markdown",
      "metadata": {
        "id": "290mOBEHgEXr"
      },
      "source": [
        "## Exercise 2: Train classifier on CIFAR-10 data. (30 points)\n",
        "Now, lets move our dataset to color images. CIFAR-10 dataset is another widely used dataset. Here all images have colors, i.e each image has 3 color channels instead of only one channel in MNIST. You need to pay more attention to the dimension of the data as it passes through the layers of your network."
      ]
    },
    {
      "cell_type": "markdown",
      "metadata": {
        "id": "IHClZywoGwWt"
      },
      "source": [
        "### Task 1: Create data loaders \n",
        "* Load CIFAR10 train and test datas with appropriate composite transform where the normalize transform should be `transforms.Normalize((0.5, 0.5, 0.5), (0.5, 0.5, 0.5))])`.\n",
        "* Set up a `train_loader ` and `test_loader` for the CIFAR-10 data with a batch size of 9 similar to the instructions.\n",
        "* The code below will plot a 3 x 3 subplot of images including their labels. (do not modify)"
      ]
    },
    {
      "cell_type": "code",
      "execution_count": 10,
      "metadata": {
        "colab": {
          "base_uri": "https://localhost:8080/",
          "height": 971
        },
        "id": "ANpwc7CSPlYP",
        "outputId": "78cd4c34-39a6-4f1a-9077-56089f6934ac"
      },
      "outputs": [
        {
          "name": "stdout",
          "output_type": "stream",
          "text": [
            "Files already downloaded and verified\n",
            "Files already downloaded and verified\n"
          ]
        },
        {
          "name": "stderr",
          "output_type": "stream",
          "text": [
            "C:\\Users\\hurst\\AppData\\Local\\Temp\\ipykernel_32404\\3835743650.py:27: UserWarning: FigureCanvasAgg is non-interactive, and thus cannot be shown\n",
            "  fig.show()\n"
          ]
        },
        {
          "data": {
            "image/png": "[encoded data removed]",
            "text/plain": [
              "<Figure size 900x900 with 9 Axes>"
            ]
          },
          "metadata": {},
          "output_type": "display_data"
        }
      ],
      "source": [
        "classes = ('plane', 'car', 'bird', 'cat', 'deer', 'dog', 'frog', 'horse', 'ship', 'truck')\n",
        "\n",
        "# Create the appropriate transform, load/download CIFAR10 train and test datasets with transform\n",
        "# ----------- <Your code> ---------------\n",
        "transform = torchvision.transforms.Compose([transforms.ToTensor(), transforms.Normalize((0.5, 0.5, 0.5), (0.5, 0.5, 0.5))])\n",
        "trainset = torchvision.datasets.CIFAR10(root=data_dir, download=True, train=True, transform=transform)\n",
        "testset  = torchvision.datasets.CIFAR10(root=data_dir, download=True, train=False, transform=transform)\n",
        "# ----------- <End Your code> ---------------\n",
        "\n",
        "# Define trainloader and testloader\n",
        "# ----------- <Your code> ---------------\n",
        "batch_sz = 128\n",
        "train_loader  = torch.utils.data.DataLoader(dataset=trainset, batch_size=batch_sz, shuffle=True)\n",
        "test_loader  = torch.utils.data.DataLoader(dataset=testset,  batch_size=batch_sz, shuffle=False)\n",
        "# ----------- <End Your code> ---------------\n",
        "\n",
        "# Code to display images\n",
        "batch_idx, (images, targets) = next(enumerate(train_loader )) #fix!!!!!\n",
        "fig, ax = plt.subplots(3,3,figsize = (9,9))\n",
        "for i in range(3):\n",
        "    for j in range(3):\n",
        "        image = images[i*3+j].permute(1,2,0)\n",
        "        image = image/2 + 0.5\n",
        "        ax[i,j].imshow(image)\n",
        "        ax[i,j].set_axis_off()\n",
        "        ax[i,j].set_title(f'{classes[targets[i*3+j]]}')\n",
        "fig.show()"
      ]
    },
    {
      "cell_type": "markdown",
      "metadata": {
        "id": "f0FMDyDzijEG"
      },
      "source": [
        "### Task 2: Create CNN and train it\n",
        "Set up a convolutional neural network and have your data trained on it. You have to decide all the details in your network, overall your neural network should meet the following standards to receive full credit:\n",
        "\n",
        "*   You should not use more than three convolutional layers and three fully connected layers\n",
        "*   Accuracy on the test dataset should be **above** 50%\n",
        "\n"
      ]
    },
    {
      "cell_type": "code",
      "execution_count": 11,
      "metadata": {
        "id": "a1pkwtIAzwfg"
      },
      "outputs": [],
      "source": [
        "# Create CNN network.\n",
        "# ----------- <Your code> ---------------\n",
        "\n",
        "class CIFAR10_CNN(nn.Module):\n",
        "    def __init__(self):\n",
        "        super().__init__() \n",
        "        self.conv1 = nn.Conv2d(3,  32, kernel_size=3, padding=1)\n",
        "        self.conv2 = nn.Conv2d(32, 64, kernel_size=3, padding=1)\n",
        "        self.conv3 = nn.Conv2d(64, 128, kernel_size=3, padding=1)\n",
        "        self.fc1 = nn.Linear(128 * 4 * 4, 512)\n",
        "        self.fc2 = nn.Linear(512, 10)\n",
        "        self.pool = nn.MaxPool2d(kernel_size=2, stride=2)\n",
        "\n",
        "    def forward(self, x):\n",
        "        x = self.pool(F.relu(self.conv1(x)))\n",
        "        x = self.pool(F.relu(self.conv2(x)))\n",
        "        x = self.pool(F.relu(self.conv3(x)))\n",
        "        x = x.view(-1, 128 * 4 * 4)\n",
        "        x = F.relu(self.fc1(x))\n",
        "        x = self.fc2(x)\n",
        "        return F.log_softmax(x) \n",
        "    \n",
        "# ----------- <End Your code> --------------- "
      ]
    },
    {
      "cell_type": "code",
      "execution_count": 12,
      "metadata": {
        "colab": {
          "base_uri": "https://localhost:8080/"
        },
        "id": "cRuEf8tAlnsP",
        "outputId": "d3a51ca4-8ad6-4ae1-f93b-aa8a2976131f"
      },
      "outputs": [
        {
          "name": "stderr",
          "output_type": "stream",
          "text": [
            "C:\\Users\\hurst\\AppData\\Local\\Temp\\ipykernel_32404\\1586129753.py:21: UserWarning: Implicit dimension choice for log_softmax has been deprecated. Change the call to include dim=X as an argument.\n",
            "  return F.log_softmax(x)\n"
          ]
        },
        {
          "name": "stdout",
          "output_type": "stream",
          "text": [
            "Epoch 1: [0/50000] Loss: 2.303\n",
            "Epoch 1: [4992/50000] Loss: 1.710\n",
            "Epoch 1: [9984/50000] Loss: 1.647\n",
            "Epoch 1: [14976/50000] Loss: 1.323\n",
            "Epoch 1: [19968/50000] Loss: 1.323\n",
            "Epoch 1: [24960/50000] Loss: 1.488\n",
            "Epoch 1: [29952/50000] Loss: 1.413\n",
            "Epoch 1: [34944/50000] Loss: 1.351\n",
            "Epoch 1: [39936/50000] Loss: 1.306\n",
            "Epoch 1: [44928/50000] Loss: 0.989\n",
            "Epoch 1: [31200/50000] Loss: 1.143\n",
            "Test result on epoch 1: total sample: 10000, Avg loss: 1.124, Acc: 59.820%\n",
            "Epoch 2: [0/50000] Loss: 1.020\n",
            "Epoch 2: [4992/50000] Loss: 0.983\n",
            "Epoch 2: [9984/50000] Loss: 1.094\n",
            "Epoch 2: [14976/50000] Loss: 1.063\n",
            "Epoch 2: [19968/50000] Loss: 1.107\n",
            "Epoch 2: [24960/50000] Loss: 1.021\n",
            "Epoch 2: [29952/50000] Loss: 0.886\n",
            "Epoch 2: [34944/50000] Loss: 0.939\n",
            "Epoch 2: [39936/50000] Loss: 1.021\n",
            "Epoch 2: [44928/50000] Loss: 1.013\n",
            "Epoch 2: [31200/50000] Loss: 0.919\n",
            "Test result on epoch 2: total sample: 10000, Avg loss: 0.948, Acc: 66.490%\n",
            "Epoch 3: [0/50000] Loss: 0.934\n",
            "Epoch 3: [4992/50000] Loss: 0.804\n",
            "Epoch 3: [9984/50000] Loss: 0.728\n",
            "Epoch 3: [14976/50000] Loss: 0.748\n",
            "Epoch 3: [19968/50000] Loss: 0.693\n",
            "Epoch 3: [24960/50000] Loss: 0.873\n",
            "Epoch 3: [29952/50000] Loss: 0.903\n",
            "Epoch 3: [34944/50000] Loss: 0.742\n",
            "Epoch 3: [39936/50000] Loss: 0.783\n",
            "Epoch 3: [44928/50000] Loss: 0.673\n",
            "Epoch 3: [31200/50000] Loss: 0.753\n",
            "Test result on epoch 3: total sample: 10000, Avg loss: 0.780, Acc: 73.100%\n",
            "Epoch 4: [0/50000] Loss: 0.702\n",
            "Epoch 4: [4992/50000] Loss: 0.556\n",
            "Epoch 4: [9984/50000] Loss: 0.605\n",
            "Epoch 4: [14976/50000] Loss: 0.599\n",
            "Epoch 4: [19968/50000] Loss: 0.775\n",
            "Epoch 4: [24960/50000] Loss: 0.767\n",
            "Epoch 4: [29952/50000] Loss: 0.591\n",
            "Epoch 4: [34944/50000] Loss: 0.577\n",
            "Epoch 4: [39936/50000] Loss: 0.677\n",
            "Epoch 4: [44928/50000] Loss: 0.621\n",
            "Epoch 4: [31200/50000] Loss: 0.593\n",
            "Test result on epoch 4: total sample: 10000, Avg loss: 0.795, Acc: 72.130%\n",
            "Test result on epoch 4: total sample: 10000, Avg loss: 0.795, Acc: 72.130%\n",
            "Finished Training after 85.44476413726807 s \n"
          ]
        }
      ],
      "source": [
        "# Train your neural network here.\n",
        "start = time.time()\n",
        "max_epoch = 4\n",
        "# ----------- <Your code> ---------------\n",
        "# Define net\n",
        "learning_rate = 0.001\n",
        "num_epochs    = max_epoch\n",
        "\n",
        "net = CIFAR10_CNN().to(device)\n",
        "optimizer_cnn = optim.Adam(net.parameters(), lr=learning_rate)\n",
        "\n",
        "for epoch in range(1, num_epochs + 1):\n",
        "    train_loss = train(net, criterion, optimizer_cnn, train_loader , epoch)\n",
        "    test_stat  = test(net,  criterion, test_loader, epoch)\n",
        "\n",
        "# ----------- <End Your code> ---------------\n",
        "output = test(net, criterion, test_loader, epoch)\n",
        "end = time.time()\n",
        "print(f'Finished Training after {end-start} s ')"
      ]
    },
    {
      "cell_type": "markdown",
      "metadata": {
        "id": "hS1mXr9Cl6pM"
      },
      "source": [
        "### Task 3: Plot misclassified test images\n",
        "Plot some misclassified images in your test dataset:\n",
        "\n",
        "*   select three images that are **misclassified** by your neural network\n",
        "*   label each images with true label and predicted label\n",
        "*   use `detach().cpu()` when plotting images if the image is in gpu"
      ]
    },
    {
      "cell_type": "code",
      "execution_count": 13,
      "metadata": {
        "colab": {
          "base_uri": "https://localhost:8080/",
          "height": 909
        },
        "id": "xd8vWof8nIHw",
        "outputId": "c5648ba6-ad1a-46dc-f465-8ebe63669b25"
      },
      "outputs": [
        {
          "name": "stderr",
          "output_type": "stream",
          "text": [
            "C:\\Users\\hurst\\AppData\\Local\\Temp\\ipykernel_32404\\3568363329.py:18: UserWarning: FigureCanvasAgg is non-interactive, and thus cannot be shown\n",
            "  fig.show()\n"
          ]
        },
        {
          "data": {
            "image/png": "[encoded data removed]",
            "text/plain": [
              "<Figure size 900x300 with 3 Axes>"
            ]
          },
          "metadata": {},
          "output_type": "display_data"
        }
      ],
      "source": [
        "total_images = 3\n",
        "predictions = output['prediction']\n",
        "targets = torch.tensor(testset.targets)\n",
        "# ----------- <Your code> ---------------\n",
        "fig, ax = plt.subplots(1,total_images,figsize = (3*total_images,3))\n",
        "plotted = 0\n",
        "for (img, label), pred in zip(testset, predictions): \n",
        "    if plotted == total_images: \n",
        "        break\n",
        "    elif label != pred:   \n",
        "        image = img.permute(1,2,0)\n",
        "        image = image/2 + 0.5\n",
        "        ax[plotted].imshow(image)\n",
        "        ax[plotted].set_axis_off()\n",
        "        ax[plotted].set_title(f'{classes[pred]}')\n",
        "        plotted += 1\n",
        "fig.suptitle('Misclassifications')\n",
        "fig.show()\n",
        "# ----------- <End Your code> ---------------    "
      ]
    },
    {
      "cell_type": "markdown",
      "metadata": {
        "id": "W2ZVJYKtL5yN"
      },
      "source": [
        "Questions (0 points): Are the mis-classified images also misleading to human eyes?"
      ]
    },
    {
      "cell_type": "markdown",
      "metadata": {
        "id": "INN54zXpTcZw"
      },
      "source": [
        "## Exercise 3: Transfer Learning (30 points)"
      ]
    },
    {
      "cell_type": "markdown",
      "metadata": {
        "id": "IgDHswfp0k7m"
      },
      "source": [
        "In practice, people won't train an entire CNN from scratch, because it is relatively rare to have a dataset of sufficient size (or sufficient computational power). Instead, it is common to pretrain a CNN on a very large dataset and then use the CNN either as an initialization or a fixed feature extractor for the task of interest.\n",
        "\n",
        "In this task, you will learn how to use a pretrained CNN for CIFAR-10 classification."
      ]
    },
    {
      "cell_type": "markdown",
      "metadata": {
        "id": "f21CjwoW8ty5"
      },
      "source": [
        "### Task1: Load pretrained model"
      ]
    },
    {
      "cell_type": "markdown",
      "metadata": {
        "id": "VZ-21Pv183TX"
      },
      "source": [
        "`torchvision.models` (https://pytorch.org/vision/stable/models.html) contains definitions of models for addressing different tasks, including: image classification, pixelwise semantic segmentation, object detection, instance segmentation, person keypoint detection and video classification.\n",
        "\n",
        "First, you should load the **pretrained** ResNet-18 that has already been trained on [ImageNet](https://www.image-net.org/) using `torchvision.models`. If you are interested in more details about Resnet-18, read this paper https://arxiv.org/pdf/1512.03385.pdf."
      ]
    },
    {
      "cell_type": "code",
      "execution_count": 14,
      "metadata": {
        "colab": {
          "base_uri": "https://localhost:8080/",
          "height": 161,
          "referenced_widgets": [
            "430081d6df5049a2b5530ce3bf17ff94",
            "9eac0fcc879446c09fe8cc7c53994a9c",
            "74a32a7aa66b404592ccfcb4ab23638c",
            "3b7a2dd24d2c44868d17432585b42af8",
            "b7a61ef638544ac4aa995fc9ccab5234",
            "d356039223714c2b97ed2eca0a1a3192",
            "c831226c444c4ced8027de2261592fbc",
            "75ec57d5ab4d4db7889e4c1b888b632c",
            "b7c2e1284d3e470482b3bb304353c4a9",
            "fdc0446b5a8b40ef83257dff35a18281",
            "1172ab15cfca49dfb38e20ebdb203815"
          ]
        },
        "id": "KaHP0VfAVuDY",
        "outputId": "bedb115f-3b56-4218-de3b-3ea20847a6db"
      },
      "outputs": [
        {
          "name": "stderr",
          "output_type": "stream",
          "text": [
            "C:\\Users\\hurst\\AppData\\Local\\Packages\\PythonSoftwareFoundation.Python.3.9_qbz5n2kfra8p0\\LocalCache\\local-packages\\Python39\\site-packages\\torchvision\\models\\_utils.py:208: UserWarning: The parameter 'pretrained' is deprecated since 0.13 and may be removed in the future, please use 'weights' instead.\n",
            "  warnings.warn(\n",
            "C:\\Users\\hurst\\AppData\\Local\\Packages\\PythonSoftwareFoundation.Python.3.9_qbz5n2kfra8p0\\LocalCache\\local-packages\\Python39\\site-packages\\torchvision\\models\\_utils.py:223: UserWarning: Arguments other than a weight enum or `None` for 'weights' are deprecated since 0.13 and may be removed in the future. The current behavior is equivalent to passing `weights=ResNet18_Weights.IMAGENET1K_V1`. You can also use `weights=ResNet18_Weights.DEFAULT` to get the most up-to-date weights.\n",
            "  warnings.warn(msg)\n"
          ]
        }
      ],
      "source": [
        "resnet18 = models.resnet18(pretrained=True)\n",
        "resnet18 = resnet18.to(device)"
      ]
    },
    {
      "cell_type": "markdown",
      "metadata": {
        "id": "MtQkZUZH84q8"
      },
      "source": [
        "### Task2: Create data loaders for CIFAR-10"
      ]
    },
    {
      "cell_type": "markdown",
      "metadata": {
        "id": "GTlRo-CJ4GQD"
      },
      "source": [
        "Then you need to create a modified dataset and dataloader for CIFAR-10. Importantly, the model you load has been trained on **ImageNet** and it expects inputs as mini-batches of 3-channel RGB images of shape (3 x H x W), where H and W are expected to be **at least** 224. So you need to preprocess the CIFAR-10 data to make sure it has a height and width of 224. Thus, you should add a transform when loading the CIFAR10 dataset (see [`torchvision.transforms.Resize`](https://pytorch.org/vision/stable/transforms.html#torchvision.transforms.Resize)).\n",
        "This should be added appropriately to the `transform` you created in a previous task."
      ]
    },
    {
      "cell_type": "code",
      "execution_count": 15,
      "metadata": {
        "colab": {
          "base_uri": "https://localhost:8080/"
        },
        "id": "lhFys7OQV1Wj",
        "outputId": "65dfd1d0-8a21-4b4b-bb05-92ba40d17d8c"
      },
      "outputs": [
        {
          "name": "stdout",
          "output_type": "stream",
          "text": [
            "Files already downloaded and verified\n",
            "Files already downloaded and verified\n"
          ]
        }
      ],
      "source": [
        "# Create your dataloader here\n",
        "# ----------- <Your code> ---------------\n",
        "transform = torchvision.transforms.Compose([transforms.ToTensor(), \n",
        "                                            transforms.Resize((224,224)),\n",
        "                                            transforms.Normalize((0.5, 0.5, 0.5), (0.5, 0.5, 0.5))])\n",
        "trainset = torchvision.datasets.CIFAR10(root=data_dir, download=True, train=True, transform=transform)\n",
        "testset  = torchvision.datasets.CIFAR10(root=data_dir, download=True, train=False, transform=transform)\n",
        "# ----------- <End Your code> ---------------\n",
        "\n",
        "# Define trainloader and testloader\n",
        "# ----------- <Your code> ---------------\n",
        "batch_sz = 128\n",
        "train_loader  = torch.utils.data.DataLoader(dataset=trainset, batch_size=batch_sz, shuffle=True)\n",
        "test_loader  = torch.utils.data.DataLoader(dataset=testset,  batch_size=batch_sz, shuffle=False)\n",
        "# ----------- <End Your code> ---------------"
      ]
    },
    {
      "cell_type": "markdown",
      "metadata": {
        "id": "k8nR_aBi9Atb"
      },
      "source": [
        "### Task3: Classify test data on pretrained model"
      ]
    },
    {
      "cell_type": "markdown",
      "metadata": {
        "id": "N8IXXu-J9grR"
      },
      "source": [
        "Use the model you load to classify the **test** CIFAR-10 data and print out the test accuracy.\n",
        "\n",
        "Don't be surprised if the accuracy is bad!"
      ]
    },
    {
      "cell_type": "code",
      "execution_count": 16,
      "metadata": {
        "colab": {
          "base_uri": "https://localhost:8080/"
        },
        "id": "JOuCodyJ4FYp",
        "outputId": "dccae680-b183-4126-fa77-502b700472ec"
      },
      "outputs": [
        {
          "name": "stdout",
          "output_type": "stream",
          "text": [
            "Test result on epoch 0: total sample: 10000, Avg loss: 11.730, Acc: 0.030%\n"
          ]
        },
        {
          "data": {
            "text/plain": [
              "{'loss': 11.730486133430578,\n",
              " 'accuracy': 0.0003,\n",
              " 'prediction': tensor([ 51, 473, 408,  ..., 906,  47, 901])}"
            ]
          },
          "execution_count": 16,
          "metadata": {},
          "output_type": "execute_result"
        }
      ],
      "source": [
        "# ----------- <Your code> ---------------\n",
        "test(resnet18, criterion, test_loader, 0)\n",
        "# ----------- <End Your code> ---------------"
      ]
    },
    {
      "cell_type": "markdown",
      "metadata": {
        "id": "ETLezHR0-ByE"
      },
      "source": [
        "### Task 4: Fine-tune (i.e., update) the pretrained model for CIFAR-10"
      ]
    },
    {
      "cell_type": "markdown",
      "metadata": {
        "id": "BbQrsL-U-Faq"
      },
      "source": [
        "Now try to improve the test accuracy. We offer several possible solutions:\n",
        "\n",
        "(1) You can try to directly continue to train the model you load with the CIFAR-10 training data. \n",
        "\n",
        "(2) For efficiency, you can try to freeze part of the parameters of the loaded models. For example, you can first freeze all parameters by\n",
        "\n",
        "```\n",
        "for param in model.parameters():\n",
        "    param.requires_grad = False\n",
        "```\n",
        "and then unfreeze the last few layers by setting `somelayer.requires_grad=True`.\n",
        "\n",
        "You are also welcome to try any other approach you can think of.\n",
        "\n",
        "\n",
        "**Note:** You must print out the test accuracy and to get full credits, the test accuracy should be at least **80%**."
      ]
    },
    {
      "cell_type": "code",
      "execution_count": 17,
      "metadata": {
        "colab": {
          "base_uri": "https://localhost:8080/"
        },
        "id": "zaA_dukw-hLt",
        "outputId": "1fc99f55-9f5b-452e-d7cb-5577ba685808"
      },
      "outputs": [
        {
          "name": "stdout",
          "output_type": "stream",
          "text": [
            "Epoch 1: [0/50000] Loss: 10.061\n",
            "Epoch 1: [4992/50000] Loss: 0.734\n",
            "Epoch 1: [9984/50000] Loss: 0.614\n",
            "Epoch 1: [14976/50000] Loss: 0.576\n",
            "Epoch 1: [19968/50000] Loss: 0.446\n",
            "Epoch 1: [24960/50000] Loss: 0.412\n",
            "Epoch 1: [29952/50000] Loss: 0.418\n",
            "Epoch 1: [34944/50000] Loss: 0.365\n",
            "Epoch 1: [39936/50000] Loss: 0.355\n",
            "Epoch 1: [44928/50000] Loss: 0.344\n",
            "Epoch 1: [31200/50000] Loss: 0.328\n",
            "Test result on epoch 1: total sample: 10000, Avg loss: 0.564, Acc: 82.100%\n",
            "Epoch 2: [0/50000] Loss: 0.254\n",
            "Epoch 2: [4992/50000] Loss: 0.207\n",
            "Epoch 2: [9984/50000] Loss: 0.310\n",
            "Epoch 2: [14976/50000] Loss: 0.280\n",
            "Epoch 2: [19968/50000] Loss: 0.420\n",
            "Epoch 2: [24960/50000] Loss: 0.330\n",
            "Epoch 2: [29952/50000] Loss: 0.228\n",
            "Epoch 2: [34944/50000] Loss: 0.299\n",
            "Epoch 2: [39936/50000] Loss: 0.159\n",
            "Epoch 2: [44928/50000] Loss: 0.238\n",
            "Epoch 2: [31200/50000] Loss: 0.288\n",
            "Test result on epoch 2: total sample: 10000, Avg loss: 0.406, Acc: 86.250%\n",
            "Epoch 3: [0/50000] Loss: 0.216\n",
            "Epoch 3: [4992/50000] Loss: 0.268\n",
            "Epoch 3: [9984/50000] Loss: 0.146\n",
            "Epoch 3: [14976/50000] Loss: 0.147\n",
            "Epoch 3: [19968/50000] Loss: 0.151\n",
            "Epoch 3: [24960/50000] Loss: 0.209\n",
            "Epoch 3: [29952/50000] Loss: 0.074\n",
            "Epoch 3: [34944/50000] Loss: 0.217\n",
            "Epoch 3: [39936/50000] Loss: 0.173\n",
            "Epoch 3: [44928/50000] Loss: 0.186\n",
            "Epoch 3: [31200/50000] Loss: 0.369\n",
            "Test result on epoch 3: total sample: 10000, Avg loss: 0.329, Acc: 89.600%\n",
            "Epoch 4: [0/50000] Loss: 0.200\n",
            "Epoch 4: [4992/50000] Loss: 0.064\n",
            "Epoch 4: [9984/50000] Loss: 0.106\n",
            "Epoch 4: [14976/50000] Loss: 0.117\n",
            "Epoch 4: [19968/50000] Loss: 0.144\n",
            "Epoch 4: [24960/50000] Loss: 0.169\n",
            "Epoch 4: [29952/50000] Loss: 0.157\n",
            "Epoch 4: [34944/50000] Loss: 0.140\n",
            "Epoch 4: [39936/50000] Loss: 0.148\n",
            "Epoch 4: [44928/50000] Loss: 0.138\n",
            "Epoch 4: [31200/50000] Loss: 0.225\n",
            "Test result on epoch 4: total sample: 10000, Avg loss: 0.300, Acc: 90.870%\n",
            "Epoch 5: [0/50000] Loss: 0.076\n",
            "Epoch 5: [4992/50000] Loss: 0.136\n",
            "Epoch 5: [9984/50000] Loss: 0.059\n",
            "Epoch 5: [14976/50000] Loss: 0.101\n",
            "Epoch 5: [19968/50000] Loss: 0.178\n",
            "Epoch 5: [24960/50000] Loss: 0.051\n",
            "Epoch 5: [29952/50000] Loss: 0.070\n",
            "Epoch 5: [34944/50000] Loss: 0.094\n",
            "Epoch 5: [39936/50000] Loss: 0.183\n",
            "Epoch 5: [44928/50000] Loss: 0.070\n",
            "Epoch 5: [31200/50000] Loss: 0.158\n",
            "Test result on epoch 5: total sample: 10000, Avg loss: 0.391, Acc: 88.050%\n",
            "Epoch 6: [0/50000] Loss: 0.022\n",
            "Epoch 6: [4992/50000] Loss: 0.054\n",
            "Epoch 6: [9984/50000] Loss: 0.042\n",
            "Epoch 6: [14976/50000] Loss: 0.062\n",
            "Epoch 6: [19968/50000] Loss: 0.082\n",
            "Epoch 6: [24960/50000] Loss: 0.024\n",
            "Epoch 6: [29952/50000] Loss: 0.047\n",
            "Epoch 6: [34944/50000] Loss: 0.053\n",
            "Epoch 6: [39936/50000] Loss: 0.195\n",
            "Epoch 6: [44928/50000] Loss: 0.073\n",
            "Epoch 6: [31200/50000] Loss: 0.192\n",
            "Test result on epoch 6: total sample: 10000, Avg loss: 0.329, Acc: 90.280%\n",
            "Test result on epoch 6: total sample: 10000, Avg loss: 0.329, Acc: 90.280%\n",
            "Finished Training after 1055.6510076522827 s \n"
          ]
        }
      ],
      "source": [
        "# Directly train the whole model.\n",
        "start = time.time()\n",
        "#----------- <Your code> ---------------\n",
        "learning_rate = 0.001\n",
        "num_epochs    = 6\n",
        "\n",
        "optimizer_resnet = optim.Adam(resnet18.parameters(), lr=learning_rate)\n",
        "\n",
        "for epoch in range(1, num_epochs + 1):\n",
        "    train_loss = train(resnet18, criterion, optimizer_resnet, train_loader , epoch)\n",
        "    test_stat  = test(resnet18,  criterion, test_loader, epoch)\n",
        "\n",
        "# ----------- <End Your code> ---------------\n",
        "test(resnet18, criterion, test_loader, epoch)\n",
        "end = time.time()\n",
        "print(f'Finished Training after {end-start} s ')"
      ]
    },
    {
      "cell_type": "code",
      "execution_count": 18,
      "metadata": {},
      "outputs": [],
      "source": [
        "# Load another resnet18 instance, only unfreeze the outer layers. \n",
        "# ----------- <Your code> ---------------\n",
        "resnet18 = models.resnet18(pretrained=True)\n",
        "resnet18 = resnet18.to(device)\n",
        "for param in list(resnet18.parameters())[:-5]:\n",
        "    param.requires_grad = False\n",
        "# ----------- <End Your code> ---------------"
      ]
    },
    {
      "cell_type": "code",
      "execution_count": 19,
      "metadata": {
        "colab": {
          "base_uri": "https://localhost:8080/"
        },
        "id": "CY-yaF0YAyk7",
        "outputId": "300e18b4-c1dc-4448-f1d0-30dfbe608190"
      },
      "outputs": [
        {
          "name": "stdout",
          "output_type": "stream",
          "text": [
            "Epoch 1: [0/50000] Loss: 10.170\n",
            "Epoch 1: [4992/50000] Loss: 0.774\n",
            "Epoch 1: [9984/50000] Loss: 0.584\n",
            "Epoch 1: [14976/50000] Loss: 0.455\n",
            "Epoch 1: [19968/50000] Loss: 0.530\n",
            "Epoch 1: [24960/50000] Loss: 0.526\n",
            "Epoch 1: [29952/50000] Loss: 0.623\n",
            "Epoch 1: [34944/50000] Loss: 0.415\n",
            "Epoch 1: [39936/50000] Loss: 0.571\n",
            "Epoch 1: [44928/50000] Loss: 0.645\n",
            "Epoch 1: [31200/50000] Loss: 0.541\n",
            "Test result on epoch 1: total sample: 10000, Avg loss: 0.504, Acc: 82.460%\n",
            "Epoch 2: [0/50000] Loss: 0.409\n",
            "Epoch 2: [4992/50000] Loss: 0.439\n",
            "Epoch 2: [9984/50000] Loss: 0.404\n",
            "Epoch 2: [14976/50000] Loss: 0.460\n",
            "Epoch 2: [19968/50000] Loss: 0.464\n",
            "Epoch 2: [24960/50000] Loss: 0.301\n",
            "Epoch 2: [29952/50000] Loss: 0.299\n",
            "Epoch 2: [34944/50000] Loss: 0.391\n",
            "Epoch 2: [39936/50000] Loss: 0.399\n",
            "Epoch 2: [44928/50000] Loss: 0.392\n",
            "Epoch 2: [31200/50000] Loss: 0.386\n",
            "Test result on epoch 2: total sample: 10000, Avg loss: 0.475, Acc: 83.430%\n",
            "Epoch 3: [0/50000] Loss: 0.348\n",
            "Epoch 3: [4992/50000] Loss: 0.249\n",
            "Epoch 3: [9984/50000] Loss: 0.340\n",
            "Epoch 3: [14976/50000] Loss: 0.282\n",
            "Epoch 3: [19968/50000] Loss: 0.525\n",
            "Epoch 3: [24960/50000] Loss: 0.320\n",
            "Epoch 3: [29952/50000] Loss: 0.333\n",
            "Epoch 3: [34944/50000] Loss: 0.284\n",
            "Epoch 3: [39936/50000] Loss: 0.320\n",
            "Epoch 3: [44928/50000] Loss: 0.323\n",
            "Epoch 3: [31200/50000] Loss: 0.215\n",
            "Test result on epoch 3: total sample: 10000, Avg loss: 0.463, Acc: 84.280%\n",
            "Epoch 4: [0/50000] Loss: 0.217\n",
            "Epoch 4: [4992/50000] Loss: 0.306\n",
            "Epoch 4: [9984/50000] Loss: 0.362\n",
            "Epoch 4: [14976/50000] Loss: 0.240\n",
            "Epoch 4: [19968/50000] Loss: 0.241\n",
            "Epoch 4: [24960/50000] Loss: 0.353\n",
            "Epoch 4: [29952/50000] Loss: 0.281\n",
            "Epoch 4: [34944/50000] Loss: 0.216\n",
            "Epoch 4: [39936/50000] Loss: 0.223\n",
            "Epoch 4: [44928/50000] Loss: 0.288\n",
            "Epoch 4: [31200/50000] Loss: 0.394\n",
            "Test result on epoch 4: total sample: 10000, Avg loss: 0.466, Acc: 84.090%\n",
            "Epoch 5: [0/50000] Loss: 0.184\n",
            "Epoch 5: [4992/50000] Loss: 0.221\n",
            "Epoch 5: [9984/50000] Loss: 0.344\n",
            "Epoch 5: [14976/50000] Loss: 0.306\n",
            "Epoch 5: [19968/50000] Loss: 0.196\n",
            "Epoch 5: [24960/50000] Loss: 0.416\n",
            "Epoch 5: [29952/50000] Loss: 0.386\n",
            "Epoch 5: [34944/50000] Loss: 0.285\n",
            "Epoch 5: [39936/50000] Loss: 0.282\n",
            "Epoch 5: [44928/50000] Loss: 0.385\n",
            "Epoch 5: [31200/50000] Loss: 0.197\n",
            "Test result on epoch 5: total sample: 10000, Avg loss: 0.502, Acc: 83.130%\n",
            "Epoch 6: [0/50000] Loss: 0.219\n",
            "Epoch 6: [4992/50000] Loss: 0.239\n",
            "Epoch 6: [9984/50000] Loss: 0.193\n",
            "Epoch 6: [14976/50000] Loss: 0.261\n",
            "Epoch 6: [19968/50000] Loss: 0.185\n",
            "Epoch 6: [24960/50000] Loss: 0.251\n",
            "Epoch 6: [29952/50000] Loss: 0.326\n",
            "Epoch 6: [34944/50000] Loss: 0.186\n",
            "Epoch 6: [39936/50000] Loss: 0.216\n",
            "Epoch 6: [44928/50000] Loss: 0.159\n",
            "Epoch 6: [31200/50000] Loss: 0.270\n",
            "Test result on epoch 6: total sample: 10000, Avg loss: 0.475, Acc: 84.380%\n",
            "Test result on epoch 0: total sample: 10000, Avg loss: 0.475, Acc: 84.380%\n",
            "Finished Training after 582.5069808959961 s \n"
          ]
        }
      ],
      "source": [
        "# Train the model!!\n",
        "start = time.time()\n",
        "# ----------- <Your code> ---------------\n",
        "learning_rate = 0.001\n",
        "num_epochs    = 6\n",
        "\n",
        "optimizer_resnet = optim.Adam(resnet18.parameters(), lr=learning_rate)\n",
        "\n",
        "for epoch in range(1, num_epochs + 1):\n",
        "    train_loss = train(resnet18, criterion, optimizer_resnet, train_loader , epoch)\n",
        "    test_stat  = test(resnet18,  criterion, test_loader, epoch) \n",
        "# ----------- <End Your code> ---------------\n",
        "test(resnet18, criterion, test_loader)\n",
        "end = time.time()\n",
        "print(f'Finished Training after {end-start} s ')"
      ]
    }
  ],
  "metadata": {
    "accelerator": "GPU",
    "colab": {
      "collapsed_sections": [],
      "provenance": []
    },
    "kernelspec": {
      "display_name": "Python 3",
      "language": "python",
      "name": "python3"
    },
    "language_info": {
      "codemirror_mode": {
        "name": "ipython",
        "version": 3
      },
      "file_extension": ".py",
      "mimetype": "text/x-python",
      "name": "python",
      "nbconvert_exporter": "python",
      "pygments_lexer": "ipython3",
      "version": "3.9.13"
    }
  },
  "nbformat": 4,
  "nbformat_minor": 4
}
