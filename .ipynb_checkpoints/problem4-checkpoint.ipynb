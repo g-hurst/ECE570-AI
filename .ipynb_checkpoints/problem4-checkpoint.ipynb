{
 "cells": [
  {
   "cell_type": "markdown",
   "id": "e2491b1f-b3a6-4feb-a2fb-fa56ce77168a",
   "metadata": {},
   "source": [
    "### Problem 4\n",
    "by: Garrett Hurst"
   ]
  },
  {
   "cell_type": "code",
   "execution_count": 1,
   "id": "f9bbaae7-8420-4e9c-9d9e-049a88c68b03",
   "metadata": {},
   "outputs": [
    {
     "name": "stdout",
     "output_type": "stream",
     "text": [
      "correlated equilibria probabilities: \n",
      "  P[x1,x2]: 0.00\n",
      "  P[x1,y2]: 0.00\n",
      "  P[y1,x2]: 0.00\n",
      "  P[y1,y2]: 1.00\n"
     ]
    }
   ],
   "source": [
    "import numpy as np\n",
    "from scipy.optimize import minimize\n",
    "\n",
    "# payoffs\n",
    "A = np.array(\n",
    "    [[[2,2],[0,6]],\n",
    "     [[6,0],[1,1]]]\n",
    ")\n",
    "\n",
    "# inital values\n",
    "x0 = np.array([0.25, 0.25, 0.25, 0.25])\n",
    "\n",
    "# maximizes social optimalality\n",
    "def fun(x, A):\n",
    "    return - (x[0]*sum(A[0][0]) + x[1]*sum(A[0][1]) + x[2]*sum(A[1][0]) + x[3]*sum(A[1][1]))\n",
    "\n",
    "bounds = [(0, 1), (0, 1), (0, 1), (0, 1)]\n",
    "constraints = [{'type': 'ineq', 'fun': lambda x: x[0]}, \n",
    "               {'type': 'ineq', 'fun': lambda x: x[1]}, \n",
    "               {'type': 'ineq', 'fun': lambda x: x[2]}, \n",
    "               {'type': 'ineq', 'fun': lambda x: x[3]}, \n",
    "               {'type': 'ineq', 'fun': lambda x: (A[0][0][0]-A[1][0][0])*x[0] + (A[0][1][0]-A[1][1][0])*x[1]}, # row player follows x1 \n",
    "               {'type': 'ineq', 'fun': lambda x: (A[1][0][0]-A[0][0][0])*x[2] + (A[1][1][0]-A[0][1][0])*x[3]}, # row player follows y1\n",
    "               {'type': 'ineq', 'fun': lambda x: (A[0][0][0]-A[1][0][0])*x[0] + (A[0][1][0]-A[1][1][0])*x[2]}, # col player follows x2\n",
    "               {'type': 'ineq', 'fun': lambda x: (A[1][0][0]-A[0][0][0])*x[1] + (A[1][1][0]-A[0][1][0])*x[3]}, # col player follows y2\n",
    "               {'type': 'eq', 'fun': lambda x: sum(x) - 1} # probs sum to 1\n",
    "               ]\n",
    "\n",
    "# solve \n",
    "results = minimize(fun, x0, args=(A), bounds=bounds, constraints=constraints)\n",
    "print('correlated equilibria probabilities: ')\n",
    "print('  P[x1,x2]: {:.2f}'.format(results.x[0]))\n",
    "print('  P[x1,y2]: {:.2f}'.format(results.x[1]))\n",
    "print('  P[y1,x2]: {:.2f}'.format(results.x[2]))\n",
    "print('  P[y1,y2]: {:.2f}'.format(results.x[3]))\n"
   ]
  },
  {
   "cell_type": "code",
   "execution_count": 2,
   "id": "51063ee1-d10e-48d7-86b8-04b6159ed580",
   "metadata": {},
   "outputs": [
    {
     "name": "stdout",
     "output_type": "stream",
     "text": [
      "[NbConvertApp] Converting notebook ./problem4.ipynb to html\n",
      "[NbConvertApp] Writing 269414 bytes to problem4.html\n"
     ]
    }
   ],
   "source": [
    "!jupyter nbconvert --to html ./problem4.ipynb"
   ]
  },
  {
   "cell_type": "code",
   "execution_count": null,
   "id": "a0c4eedf-92a2-4b49-ad6f-d48eda400c39",
   "metadata": {},
   "outputs": [],
   "source": []
  }
 ],
 "metadata": {
  "kernelspec": {
   "display_name": "Python 3 (ipykernel)",
   "language": "python",
   "name": "python3"
  },
  "language_info": {
   "codemirror_mode": {
    "name": "ipython",
    "version": 3
   },
   "file_extension": ".py",
   "mimetype": "text/x-python",
   "name": "python",
   "nbconvert_exporter": "python",
   "pygments_lexer": "ipython3",
   "version": "3.10.15"
  }
 },
 "nbformat": 4,
 "nbformat_minor": 5
}
